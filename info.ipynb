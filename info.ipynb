{
 "cells": [
  {
   "cell_type": "code",
   "execution_count": 1,
   "metadata": {
    "collapsed": true
   },
   "outputs": [],
   "source": [
    "import pickle\n",
    "import json\n",
    "import pandas as pd\n",
    "import numpy as np\n"
   ]
  },
  {
   "cell_type": "code",
   "execution_count": 2,
   "metadata": {
    "collapsed": true
   },
   "outputs": [
    {
     "name": "stdout",
     "output_type": "stream",
     "text": [
      "['1forge.com', '6-dot-authentiqio.appspot.com', 'adafruit.com', 'adobe.com:aem', 'afterbanks.com', 'agco-ats.com', 'airport-web.appspot.com', 'amadeus.com', 'amazonaws.com:AWSMigrationHub', 'amazonaws.com:acm', 'amazonaws.com:alexaforbusiness', 'amazonaws.com:apigateway', 'amazonaws.com:application-autoscaling', 'amazonaws.com:appstream', 'amazonaws.com:appsync', 'amazonaws.com:athena', 'amazonaws.com:autoscaling', 'amazonaws.com:autoscaling-plans', 'amazonaws.com:batch', 'amazonaws.com:budgets', 'amazonaws.com:ce', 'amazonaws.com:cloud9', 'amazonaws.com:clouddirectory', 'amazonaws.com:cloudformation', 'amazonaws.com:cloudfront', 'amazonaws.com:cloudhsm', 'amazonaws.com:cloudhsmv2', 'amazonaws.com:cloudsearch', 'amazonaws.com:cloudsearchdomain', 'amazonaws.com:cloudtrail', 'amazonaws.com:codebuild', 'amazonaws.com:codecommit', 'amazonaws.com:codedeploy', 'amazonaws.com:codepipeline', 'amazonaws.com:codestar', 'amazonaws.com:cognito-identity', 'amazonaws.com:cognito-idp', 'amazonaws.com:cognito-sync', 'amazonaws.com:comprehend', 'amazonaws.com:config', 'amazonaws.com:cur', 'amazonaws.com:datapipeline', 'amazonaws.com:dax', 'amazonaws.com:devicefarm', 'amazonaws.com:directconnect', 'amazonaws.com:discovery', 'amazonaws.com:dms', 'amazonaws.com:ds', 'amazonaws.com:dynamodb', 'amazonaws.com:ec2', 'amazonaws.com:ecr', 'amazonaws.com:ecs', 'amazonaws.com:elasticache', 'amazonaws.com:elasticbeanstalk', 'amazonaws.com:elasticfilesystem', 'amazonaws.com:elasticloadbalancing', 'amazonaws.com:elasticloadbalancingv2', 'amazonaws.com:elasticmapreduce', 'amazonaws.com:elastictranscoder', 'amazonaws.com:email', 'amazonaws.com:entitlement.marketplace', 'amazonaws.com:es', 'amazonaws.com:events', 'amazonaws.com:firehose', 'amazonaws.com:gamelift', 'amazonaws.com:glacier', 'amazonaws.com:glue', 'amazonaws.com:greengrass', 'amazonaws.com:guardduty', 'amazonaws.com:health', 'amazonaws.com:iam', 'amazonaws.com:importexport', 'amazonaws.com:inspector', 'amazonaws.com:iot', 'amazonaws.com:iot-data', 'amazonaws.com:iot-jobs-data', 'amazonaws.com:kinesis', 'amazonaws.com:kinesis-video-archived-media', 'amazonaws.com:kinesis-video-media', 'amazonaws.com:kinesisanalytics', 'amazonaws.com:kinesisvideo', 'amazonaws.com:kms', 'amazonaws.com:lambda', 'amazonaws.com:lex-models', 'amazonaws.com:lightsail', 'amazonaws.com:logs', 'amazonaws.com:machinelearning', 'amazonaws.com:marketplacecommerceanalytics', 'amazonaws.com:mediaconvert', 'amazonaws.com:medialive', 'amazonaws.com:mediapackage', 'amazonaws.com:mediastore', 'amazonaws.com:mediastore-data', 'amazonaws.com:meteringmarketplace', 'amazonaws.com:mobile', 'amazonaws.com:mobileanalytics', 'amazonaws.com:monitoring', 'amazonaws.com:mq', 'amazonaws.com:mturk-requester', 'amazonaws.com:opsworks', 'amazonaws.com:opsworkscm', 'amazonaws.com:organizations', 'amazonaws.com:pinpoint', 'amazonaws.com:polly', 'amazonaws.com:pricing', 'amazonaws.com:rds', 'amazonaws.com:redshift', 'amazonaws.com:rekognition', 'amazonaws.com:resource-groups', 'amazonaws.com:resourcegroupstaggingapi', 'amazonaws.com:route53', 'amazonaws.com:route53domains', 'amazonaws.com:runtime.lex', 'amazonaws.com:runtime.sagemaker', 'amazonaws.com:s3', 'amazonaws.com:sagemaker', 'amazonaws.com:sdb', 'amazonaws.com:serverlessrepo', 'amazonaws.com:servicecatalog', 'amazonaws.com:servicediscovery', 'amazonaws.com:shield', 'amazonaws.com:sms', 'amazonaws.com:snowball', 'amazonaws.com:sns', 'amazonaws.com:sqs', 'amazonaws.com:ssm', 'amazonaws.com:states', 'amazonaws.com:storagegateway', 'amazonaws.com:streams.dynamodb', 'amazonaws.com:sts', 'amazonaws.com:support', 'amazonaws.com:swf', 'amazonaws.com:transcribe', 'amazonaws.com:translate', 'amazonaws.com:waf', 'amazonaws.com:waf-regional', 'amazonaws.com:workdocs', 'amazonaws.com:workmail', 'amazonaws.com:workspaces', 'amazonaws.com:xray', 'anchore.io', 'apache.org:qakka', 'apacta.com', 'api2cart.com', 'apigee.net:marketcheck-cars', 'apimatic.io', 'apis.guru', 'apitore.com:2chMatomeFeedsApis', 'apitore.com:certificateFeedsApis', 'apitore.com:cosineSimilarity', 'apitore.com:designFeedsApis', 'apitore.com:documentFrequencyApis', 'apitore.com:gameFeedsApis', 'apitore.com:japaneseWordnetApis', 'apitore.com:kmeansClusteringByWord2vec', 'apitore.com:kuromojiApis', 'apitore.com:languageDetectionApis', 'apitore.com:newsFeedsApis', 'apitore.com:pioneerBlogFeedsApis', 'apitore.com:rss2jsonApis', 'apitore.com:sentenceSeparatorApis', 'apitore.com:sentenceSimilarity', 'apitore.com:sentencepieceApis_tweet_', 'apitore.com:sentencepieceApis_wikipedia_', 'apitore.com:sentimentApis', 'apitore.com:synonymApis', 'apitore.com:techFeedsApis', 'apitore.com:text2labelByTfidfApis', 'apitore.com:text2labelByWordVectorApis', 'apitore.com:travelFeedsApis', 'apitore.com:tweetSummarizationApis', 'apitore.com:twitterApis', 'apitore.com:twitterApisWithSentimentByApitoreSentimentApi', 'apitore.com:twitterApisWithWord2vecQueryExpansion', 'apitore.com:twitterApisWithWord2vecQueryExpansion,AndAddSentimentByApitoreSentimentApi', 'apitore.com:url2hrefApis', 'apitore.com:url2htmlApis', 'apitore.com:url2labelByTfidfApis', 'apitore.com:url2labelByWordVectorApis', 'apitore.com:url2srcApis', 'apitore.com:url2textApis', 'apitore.com:word2vecApis', 'apitore.com:wordnetApis', 'apitore.com:wordnetHypernymApis', 'apitore.com:wordnetHyponymApis', 'apitore.com:wordnetSimilarityApis', 'apitore.com:wordnetSynonymApis', 'apitore.com:wordnetTranslationApis', 'apitore.com:wordsToVectorsApis', 'applicationinsights.io:applicationinsights-AppInsights', 'appveyor.com', 'archive.org:search', 'archive.org:wayback', 'art19.com', 'ato.gov.au', 'aucklandmuseum.com', 'authentiq.io', 'avaza.com', 'aviationdata.systems', 'azure.com:advisor', 'azure.com:analysisservices', 'azure.com:apimanagement', 'azure.com:apimanagement-apimapis', 'azure.com:apimanagement-apimauthorizationservers', 'azure.com:apimanagement-apimbackends', 'azure.com:apimanagement-apimcertificates', 'azure.com:apimanagement-apimdeployment', 'azure.com:apimanagement-apimdiagnostics', 'azure.com:apimanagement-apimemailtemplate', 'azure.com:apimanagement-apimgroups', 'azure.com:apimanagement-apimidentityprovider', 'azure.com:apimanagement-apimloggers', 'azure.com:apimanagement-apimnetworkstatus', 'azure.com:apimanagement-apimnotifications', 'azure.com:apimanagement-apimopenidconnectproviders', 'azure.com:apimanagement-apimproducts', 'azure.com:apimanagement-apimproperties', 'azure.com:apimanagement-apimquotas', 'azure.com:apimanagement-apimreports', 'azure.com:apimanagement-apimsubscriptions', 'azure.com:apimanagement-apimtagresources', 'azure.com:apimanagement-apimtags', 'azure.com:apimanagement-apimtenant', 'azure.com:apimanagement-apimusers', 'azure.com:apimanagement-apimversionsets', 'azure.com:applicationinsights-aiOperations_API', 'azure.com:applicationinsights-componentAnnotations_API', 'azure.com:applicationinsights-componentApiKeys_API', 'azure.com:applicationinsights-componentContinuousExport_API', 'azure.com:applicationinsights-componentFeaturesAndPricing_API', 'azure.com:applicationinsights-componentProactiveDetection_API', 'azure.com:applicationinsights-componentWorkItemConfigs_API', 'azure.com:applicationinsights-components_API', 'azure.com:applicationinsights-favorites_API', 'azure.com:applicationinsights-webTestLocations_API', 'azure.com:applicationinsights-webTests_API', 'azure.com:authorization', 'azure.com:authorization-authorization-ClassicAdminCalls', 'azure.com:authorization-authorization-RACalls', 'azure.com:authorization-authorization-RoleBasedCalls', 'azure.com:automation-account', 'azure.com:automation-certificate', 'azure.com:automation-connection', 'azure.com:automation-connectionType', 'azure.com:automation-credential', 'azure.com:automation-dscCompilationJob', 'azure.com:automation-dscConfiguration', 'azure.com:automation-dscNode', 'azure.com:automation-dscNodeConfiguration', 'azure.com:automation-hybridRunbookWorkerGroup', 'azure.com:automation-job', 'azure.com:automation-jobSchedule', 'azure.com:automation-linkedWorkspace', 'azure.com:automation-module', 'azure.com:automation-runbook', 'azure.com:automation-schedule', 'azure.com:automation-softwareUpdateConfiguration', 'azure.com:automation-softwareUpdateConfigurationMachineRun', 'azure.com:automation-softwareUpdateConfigurationRun', 'azure.com:automation-sourceControl', 'azure.com:automation-sourceControlSyncJob', 'azure.com:automation-variable', 'azure.com:automation-webhook', 'azure.com:azsadmin-Alert', 'azure.com:azsadmin-CommerceAdmin', 'azure.com:azsadmin-EdgeGateway', 'azure.com:azsadmin-EdgeGatewayPool', 'azure.com:azsadmin-FabricLocation', 'azure.com:azsadmin-FileShare', 'azure.com:azsadmin-InfraRole', 'azure.com:azsadmin-InfraRoleInstance', 'azure.com:azsadmin-IpPool', 'azure.com:azsadmin-LogicalNetwork', 'azure.com:azsadmin-LogicalSubnet', 'azure.com:azsadmin-MacAddressPool', 'azure.com:azsadmin-Operations', 'azure.com:azsadmin-RegionHealth', 'azure.com:azsadmin-ResourceHealth', 'azure.com:azsadmin-ScaleUnit', 'azure.com:azsadmin-ScaleUnitNode', 'azure.com:azsadmin-ServiceHealth', 'azure.com:azsadmin-SlbMuxInstance', 'azure.com:azsadmin-StoragePool', 'azure.com:azsadmin-StorageSystem', 'azure.com:azsadmin-Volume', 'azure.com:azurestack-AzureStack', 'azure.com:azurestack-CustomerSubscription', 'azure.com:azurestack-Product', 'azure.com:azurestack-Registration', 'azure.com:batch-BatchManagement', 'azure.com:batchai-BatchAI', 'azure.com:billing', 'azure.com:cdn', 'azure.com:cognitiveservices', 'azure.com:cognitiveservices-ComputerVision', 'azure.com:cognitiveservices-ContentModerator', 'azure.com:cognitiveservices-Face', 'azure.com:cognitiveservices-LUIS-Programmatic', 'azure.com:cognitiveservices-LUIS-Runtime', 'azure.com:cognitiveservices-TextAnalytics', 'azure.com:commerce', 'azure.com:compute', 'azure.com:compute-containerService', 'azure.com:compute-disk', 'azure.com:compute-runCommands', 'azure.com:compute-skus', 'azure.com:compute-swagger', 'azure.com:consumption', 'azure.com:containerinstance-containerInstance', 'azure.com:containerregistry', 'azure.com:containerservices-containerService', 'azure.com:containerservices-location', 'azure.com:containerservices-managedClusters', 'azure.com:cosmos-db', 'azure.com:customer-insights', 'azure.com:datacatalog', 'azure.com:datafactory', 'azure.com:datalake-analytics-account', 'azure.com:datalake-analytics-catalog', 'azure.com:datalake-analytics-job', 'azure.com:datalake-store-account', 'azure.com:datalake-store-filesystem', 'azure.com:datamigration', 'azure.com:deviceprovisioningservices-iotdps', 'azure.com:devtestlabs-DTL', 'azure.com:dns', 'azure.com:domainservices', 'azure.com:eventgrid-EventGrid', 'azure.com:eventhub-EventHub', 'azure.com:hanaonazure', 'azure.com:hdinsight-applications', 'azure.com:hdinsight-capabilities', 'azure.com:hdinsight-cluster', 'azure.com:hdinsight-configurations', 'azure.com:hdinsight-extensions', 'azure.com:hdinsight-operations', 'azure.com:hdinsight-scriptActions', 'azure.com:intune', 'azure.com:iothub', 'azure.com:keyvault', 'azure.com:keyvault-providers', 'azure.com:keyvault-secrets', 'azure.com:locationbasedservices', 'azure.com:logic', 'azure.com:machinelearning-commitmentPlans', 'azure.com:machinelearning-webservices', 'azure.com:machinelearning-workspaces', 'azure.com:machinelearningcompute-machineLearningCompute', 'azure.com:machinelearningexperimentation-machineLearningExperimentation', 'azure.com:managementgroups-management', 'azure.com:managementpartner-ManagementPartner', 'azure.com:marketplaceordering-Agreements', 'azure.com:mediaservices-media', 'azure.com:migrate', 'azure.com:mobileengagement-mobile-engagement', 'azure.com:monitor-actionGroups_API', 'azure.com:monitor-activityLogAlerts_API', 'azure.com:monitor-activityLogs_API', 'azure.com:monitor-alertRulesIncidents_API', 'azure.com:monitor-alertRules_API', 'azure.com:monitor-autoscale_API', 'azure.com:monitor-baseline_API', 'azure.com:monitor-calculateBaseline_API', 'azure.com:monitor-diagnosticsSettingsCategories_API', 'azure.com:monitor-diagnosticsSettings_API', 'azure.com:monitor-eventCategories_API', 'azure.com:monitor-logProfiles_API', 'azure.com:monitor-metricDefinitions_API', 'azure.com:monitor-metrics_API', 'azure.com:monitor-operations_API', 'azure.com:monitor-serviceDiagnosticsSettings_API', 'azure.com:monitor-tenantActivityLogs_API', 'azure.com:msi-ManagedIdentity', 'azure.com:mysql', 'azure.com:network', 'azure.com:network-applicationGateway', 'azure.com:network-applicationSecurityGroup', 'azure.com:network-checkDnsAvailability', 'azure.com:network-endpointService', 'azure.com:network-expressRouteCircuit', 'azure.com:network-loadBalancer', 'azure.com:network-networkInterface', 'azure.com:network-networkSecurityGroup', 'azure.com:network-networkWatcher', 'azure.com:network-operation', 'azure.com:network-publicIpAddress', 'azure.com:network-routeFilter', 'azure.com:network-routeTable', 'azure.com:network-serviceCommunity', 'azure.com:network-usage', 'azure.com:network-virtualNetwork', 'azure.com:network-virtualNetworkGateway', 'azure.com:network-vmssNetworkInterface', 'azure.com:network-vmssPublicIpAddress', 'azure.com:notificationhubs', 'azure.com:operationalinsights-OperationalInsights', 'azure.com:operationsmanagement-OperationsManagement', 'azure.com:policyinsights-policyEvents', 'azure.com:policyinsights-policyStates', 'azure.com:postgresql', 'azure.com:powerbidedicated', 'azure.com:powerbiembedded', 'azure.com:provisioningservices-iotdps', 'azure.com:recoveryservices-backup', 'azure.com:recoveryservices-registeredidentities', 'azure.com:recoveryservices-replicationusages', 'azure.com:recoveryservices-vaults', 'azure.com:recoveryservices-vaultusages', 'azure.com:recoveryservicesbackup', 'azure.com:recoveryservicesbackup-backupManagement', 'azure.com:recoveryservicesbackup-bms', 'azure.com:recoveryservicesbackup-jobs', 'azure.com:recoveryservicesbackup-operations', 'azure.com:recoveryservicesbackup-registeredIdentities', 'azure.com:recoveryservicessiterecovery-service', 'azure.com:redis', 'azure.com:relay', 'azure.com:reservations', 'azure.com:resourcehealth', 'azure.com:resources', 'azure.com:resources-features', 'azure.com:resources-links', 'azure.com:resources-locks', 'azure.com:resources-managedapplications', 'azure.com:resources-management', 'azure.com:resources-policy', 'azure.com:resources-policyAssignments', 'azure.com:resources-policyDefinitions', 'azure.com:resources-policySetDefinitions', 'azure.com:resources-subscriptions', 'azure.com:scheduler', 'azure.com:search', 'azure.com:search-searchindex', 'azure.com:search-searchservice', 'azure.com:servermanagement', 'azure.com:service-map-arm-service-map', 'azure.com:servicebus', 'azure.com:servicefabric', 'azure.com:sql-Databases', 'azure.com:sql-advisors', 'azure.com:sql-backupLongTermRetentionPolicies', 'azure.com:sql-backupLongTermRetentionVaults', 'azure.com:sql-backups', 'azure.com:sql-blobAuditingPolicies', 'azure.com:sql-cancelOperations', 'azure.com:sql-cancelPoolOperations', 'azure.com:sql-capabilities', 'azure.com:sql-checkNameAvailability', 'azure.com:sql-connectionPolicies', 'azure.com:sql-dataMasking', 'azure.com:sql-dataWarehouseUserActivities', 'azure.com:sql-databaseAutomaticTuning', 'azure.com:sql-databaseSecurityAlertPolicies', 'azure.com:sql-databases', 'azure.com:sql-deprecated', 'azure.com:sql-disasterRecoveryConfigurations', 'azure.com:sql-elasticPools', 'azure.com:sql-encryptionProtectors', 'azure.com:sql-failoverGroups', 'azure.com:sql-firewallRules', 'azure.com:sql-geoBackupPolicies', 'azure.com:sql-importExport', 'azure.com:sql-managedDatabases', 'azure.com:sql-metrics', 'azure.com:sql-operations', 'azure.com:sql-queries', 'azure.com:sql-renameDatabase', 'azure.com:sql-replicationLinks', 'azure.com:sql-restorePoints', 'azure.com:sql-serverAutomaticTuning', 'azure.com:sql-serverAzureADAdministrators', 'azure.com:sql-serverCommunicationLinks', 'azure.com:sql-serverDnsAliases', 'azure.com:sql-serverKeys', 'azure.com:sql-servers', 'azure.com:sql-serviceObjectives', 'azure.com:sql-sql.core', 'azure.com:sql-syncAgents', 'azure.com:sql-syncGroups', 'azure.com:sql-syncMembers', 'azure.com:sql-tableAuditing', 'azure.com:sql-usages', 'azure.com:sql-virtualNetworkRules', 'azure.com:storage', 'azure.com:storageimportexport', 'azure.com:storsimple8000series-storsimple', 'azure.com:streamanalytics-functions', 'azure.com:streamanalytics-inputs', 'azure.com:streamanalytics-outputs', 'azure.com:streamanalytics-streamingjobs', 'azure.com:streamanalytics-subscriptions', 'azure.com:streamanalytics-transformations', 'azure.com:subscription-subscriptionDefinitions', 'azure.com:timeseriesinsights', 'azure.com:trafficmanager', 'azure.com:trafficmanager-trafficmanageranalytics', 'azure.com:visualstudio-Csm', 'azure.com:web-AppServiceCertificateOrders', 'azure.com:web-AppServiceEnvironments', 'azure.com:web-AppServicePlans', 'azure.com:web-CertificateRegistrationProvider', 'azure.com:web-Certificates', 'azure.com:web-DeletedWebApps', 'azure.com:web-Diagnostics', 'azure.com:web-DomainRegistrationProvider', 'azure.com:web-Domains', 'azure.com:web-Provider', 'azure.com:web-Recommendations', 'azure.com:web-ResourceProvider', 'azure.com:web-TopLevelDomains', 'azure.com:web-WebApps', 'azure.com:web-logicAppsManagementClient', 'azure.com:web-service', 'bbc.co.uk', 'bbc.com', 'bbci.co.uk', 'bclaws.ca:bclaws', 'beanstream.com', 'beezup.com', 'betfair.com', 'bigoven.com', 'bikewise.org', 'bitbucket.org', 'blazemeter.com', 'bluemix.net:containers', 'botify.com', 'box.com:authorization', 'box.com:content', 'box.com:token', 'box.com:upload', 'brandlovers.com', 'brex.io', 'browshot.com', 'bufferapp.com', 'bungie.net', 'callfire.com', 'cambase.io', 'carbondoomsday.com', 'ccp.is', 'cenit.io', 'channel4.com', 'circleci.com', 'circuitsandbox.net', 'cisco.com', 'citrixonline.com:gotomeeting', 'citrixonline.com:scim', 'citycontext.com', 'clarify.io', 'clever-cloud.com', 'clever.com', 'clickmeter.com', 'cloudmersive.com:ocr', 'cnab-online.herokuapp.com', 'code-scan.com', 'consumerfinance.gov', 'core.ac.uk', 'cybertaxonomy.eu', 'data.gov', 'data2crm.com', 'dataatwork.org', 'datumbox.com', 'deeparteffects.com', 'deutschebahn.com:betriebsstellen', 'deutschebahn.com:fahrplan', 'deutschebahn.com:fasta', 'deutschebahn.com:flinkster', 'deutschebahn.com:reisezentren', 'deutschebahn.com:stada', 'digitallinguistics.io', 'docker.com:engine', 'docusign.net', 'domainsdb.info', 'dracoon.team', 'dropx.io', 'dweet.io', 'ebay.com:buy-browse', 'ebay.com:buy-feed', 'ebay.com:buy-marketing', 'ebay.com:commerce-taxonomy', 'ebay.com:sell-fulfillment', 'envoice.in', 'epa.gov:air', 'epa.gov:case', 'epa.gov:cwa', 'epa.gov:dfr', 'epa.gov:echo', 'epa.gov:eff', 'epa.gov:rcra', 'epa.gov:sdw', 'etmdb.com', 'europeana.eu', 'exavault.com', 'fantasydata.net:cbb-v3-scores', 'fantasydata.net:cbb-v3-stats', 'fantasydata.net:cfb-v3-scores', 'fantasydata.net:golf-v2', 'fantasydata.net:mlb-v3-play-by-play', 'fantasydata.net:mlb-v3-projections', 'fantasydata.net:mlb-v3-projections-dfsr', 'fantasydata.net:mlb-v3-rotoballer-articles', 'fantasydata.net:mlb-v3-rotoballer-premium-news', 'fantasydata.net:mlb-v3-scores', 'fantasydata.net:mlb-v3-stats', 'fantasydata.net:nascar-v2', 'fantasydata.net:nba-v3-play-by-play', 'fantasydata.net:nba-v3-projections', 'fantasydata.net:nba-v3-rotoballer-articles', 'fantasydata.net:nba-v3-rotoballer-premium-news', 'fantasydata.net:nba-v3-scores', 'fantasydata.net:nba-v3-stats', 'fantasydata.net:nfl-v3-play-by-play', 'fantasydata.net:nfl-v3-projections', 'fantasydata.net:nfl-v3-projections-dfsr', 'fantasydata.net:nfl-v3-rotoballer-articles', 'fantasydata.net:nfl-v3-rotoballer-premium-news', 'fantasydata.net:nfl-v3-scores', 'fantasydata.net:nfl-v3-stats', 'fantasydata.net:nhl-v3-play-by-play', 'fantasydata.net:nhl-v3-projections', 'fantasydata.net:nhl-v3-scores', 'fantasydata.net:nhl-v3-stats', 'fantasydata.net:soccer-v3-projections', 'fantasydata.net:soccer-v3-scores', 'fantasydata.net:soccer-v3-stats', 'figshare.com', 'firebrowse.org', 'flat.io', 'flickr.com', 'formapi.io', 'freesound.org', 'funtranslations.com', 'furkot.com', 'geneea.com', 'geodesystems.com', 'getgo.com:gototraining', 'getgo.com:gotowebinar', 'getsandbox.com', 'gettyimages.com', 'giphy.com', 'gisgraphy.com', 'github.com', 'gitlab.com', 'googleapis.com:abusiveexperiencereport', 'googleapis.com:acceleratedmobilepageurl', 'googleapis.com:adexchangebuyer', 'googleapis.com:adexchangebuyer2', 'googleapis.com:adexchangeseller', 'googleapis.com:adexperiencereport', 'googleapis.com:admin', 'googleapis.com:adsense', 'googleapis.com:adsensehost', 'googleapis.com:analytics', 'googleapis.com:analyticsreporting', 'googleapis.com:androiddeviceprovisioning', 'googleapis.com:androidenterprise', 'googleapis.com:androidmanagement', 'googleapis.com:androidpublisher', 'googleapis.com:appengine', 'googleapis.com:appsactivity', 'googleapis.com:appstate', 'googleapis.com:bigquery', 'googleapis.com:bigquerydatatransfer', 'googleapis.com:blogger', 'googleapis.com:books', 'googleapis.com:calendar', 'googleapis.com:chat', 'googleapis.com:civicinfo', 'googleapis.com:classroom', 'googleapis.com:cloudbilling', 'googleapis.com:cloudbuild', 'googleapis.com:clouddebugger', 'googleapis.com:clouderrorreporting', 'googleapis.com:cloudfunctions', 'googleapis.com:cloudiot', 'googleapis.com:cloudkms', 'googleapis.com:cloudmonitoring', 'googleapis.com:cloudresourcemanager', 'googleapis.com:cloudshell', 'googleapis.com:cloudtasks', 'googleapis.com:cloudtrace', 'googleapis.com:clouduseraccounts', 'googleapis.com:compute', 'googleapis.com:consumersurveys', 'googleapis.com:container', 'googleapis.com:content', 'googleapis.com:customsearch', 'googleapis.com:dataflow', 'googleapis.com:dataproc', 'googleapis.com:datastore', 'googleapis.com:deploymentmanager', 'googleapis.com:dfareporting', 'googleapis.com:digitalassetlinks', 'googleapis.com:discovery', 'googleapis.com:dlp', 'googleapis.com:dns', 'googleapis.com:doubleclickbidmanager', 'googleapis.com:doubleclicksearch', 'googleapis.com:drive', 'googleapis.com:firebasedynamiclinks', 'googleapis.com:firebaseremoteconfig', 'googleapis.com:firebaserules', 'googleapis.com:firestore', 'googleapis.com:fitness', 'googleapis.com:fusiontables', 'googleapis.com:games', 'googleapis.com:gamesConfiguration', 'googleapis.com:gamesManagement', 'googleapis.com:genomics', 'googleapis.com:gmail', 'googleapis.com:groupsmigration', 'googleapis.com:groupssettings', 'googleapis.com:iam', 'googleapis.com:identitytoolkit', 'googleapis.com:kgsearch', 'googleapis.com:language', 'googleapis.com:licensing', 'googleapis.com:logging', 'googleapis.com:manufacturers', 'googleapis.com:mirror', 'googleapis.com:ml', 'googleapis.com:monitoring', 'googleapis.com:oauth2', 'googleapis.com:oslogin', 'googleapis.com:pagespeedonline', 'googleapis.com:partners', 'googleapis.com:people', 'googleapis.com:playcustomapp', 'googleapis.com:playmoviespartner', 'googleapis.com:plus', 'googleapis.com:plusDomains', 'googleapis.com:poly', 'googleapis.com:prediction', 'googleapis.com:proximitybeacon', 'googleapis.com:pubsub', 'googleapis.com:qpxExpress', 'googleapis.com:replicapool', 'googleapis.com:replicapoolupdater', 'googleapis.com:reseller', 'googleapis.com:resourceviews', 'googleapis.com:runtimeconfig', 'googleapis.com:safebrowsing', 'googleapis.com:script', 'googleapis.com:searchconsole', 'googleapis.com:serviceconsumermanagement', 'googleapis.com:servicecontrol', 'googleapis.com:servicemanagement', 'googleapis.com:serviceusage', 'googleapis.com:serviceuser', 'googleapis.com:sheets', 'googleapis.com:siteVerification', 'googleapis.com:slides', 'googleapis.com:sourcerepo', 'googleapis.com:spanner', 'googleapis.com:spectrum', 'googleapis.com:speech', 'googleapis.com:sqladmin', 'googleapis.com:storage', 'googleapis.com:storagetransfer', 'googleapis.com:streetviewpublish', 'googleapis.com:surveys', 'googleapis.com:tagmanager', 'googleapis.com:taskqueue', 'googleapis.com:tasks', 'googleapis.com:testing', 'googleapis.com:toolresults', 'googleapis.com:tpu', 'googleapis.com:tracing', 'googleapis.com:translate', 'googleapis.com:urlshortener', 'googleapis.com:vault', 'googleapis.com:videointelligence', 'googleapis.com:vision', 'googleapis.com:webfonts', 'googleapis.com:webmasters', 'googleapis.com:youtube', 'googleapis.com:youtubeAnalytics', 'googleapis.com:youtubereporting', 'gov.bc.ca:bcdc', 'gov.bc.ca:bcgnws', 'gov.bc.ca:geocoder', 'gov.bc.ca:geomark', 'gov.bc.ca:jobposting', 'gov.bc.ca:news', 'gov.bc.ca:open511', 'gov.bc.ca:router', 'graphhopper.com', 'greenpeace.org', 'gsa.gov', 'hackathonwatch.com', 'haloapi.com:metadata', 'haloapi.com:profile', 'haloapi.com:stats', 'haloapi.com:ugc', 'healthcare.gov', 'hetras-certification.net:booking', 'hetras-certification.net:hotel', 'hhs.gov', 'highwaysengland.co.uk', 'hsbc.com', 'icons8.com', 'idtbeyond.com', 'ijenko.net', 'illumidesk.com', 'import.io:data', 'import.io:extraction', 'import.io:rss', 'import.io:run', 'import.io:schedule', 'inboxroute.com', 'infermedica.com', 'instagram.com', 'instawell.com', 'iqualify.com', 'isbndb.com', 'isendpro.com', 'iva-api.com', 'je-apis.com', 'jirafe.com', 'jumpseller.com', 'just-eat.co.uk', 'koomalooma.com', 'kubernetes.io', 'landregistry.gov.uk:deed', 'launchdarkly.com', 'learnifier.com', 'letmc.com:basic-tier', 'letmc.com:customer', 'letmc.com:diary', 'letmc.com:free-tier', 'letmc.com:maintenance', 'letmc.com:reporting', 'link.fish', 'loganalytics.io:operationalinsights-OperationalInsights', 'lotadata.com', 'lufthansa.com:partner', 'lufthansa.com:public', 'lyft.com', 'magento.com', 'magick.nu', 'mandrillapp.com', 'mashape.com:geodb', 'mcw.edu', 'medium.com', 'miataru.com', 'microsoft.com:cognitiveservices-CustomSearch', 'microsoft.com:cognitiveservices-EntitySearch', 'microsoft.com:cognitiveservices-ImageSearch', 'microsoft.com:cognitiveservices-NewsSearch', 'microsoft.com:cognitiveservices-Prediction', 'microsoft.com:cognitiveservices-SpellCheck', 'microsoft.com:cognitiveservices-Training', 'microsoft.com:cognitiveservices-VideoSearch', 'microsoft.com:cognitiveservices-WebSearch', 'moonmoonmoonmoon.com', 'motaword.com', 'mozilla.com:kinto', 'nativeads.com', 'naviplancentral.com:factfinder', 'naviplancentral.com:plan', 'nba.com', 'neowsapp.com', 'netatmo.net', 'netlicensing.io', 'netlify.com', 'neutrinoapi.com', 'nfusionsolutions.biz', 'noosh.com', 'npr.org', 'nrel.gov:building-case-studies', 'nrel.gov:transportation-incentives-laws', 'nsidc.org', 'nytimes.com:archive', 'nytimes.com:article_search', 'nytimes.com:books_api', 'nytimes.com:community', 'nytimes.com:geo_api', 'nytimes.com:most_popular_api', 'nytimes.com:movie_reviews', 'nytimes.com:semantic_api', 'nytimes.com:times_tags', 'nytimes.com:timeswire', 'nytimes.com:top_stories', 'o2.cz:mobility', 'o2.cz:sociodemo', 'oceandrivers.com', 'omdbapi.com', 'openapi-converter.herokuapp.com', 'openbanking.org.uk', 'opencagedata.com', 'opendatasoft.com', 'openfintech.io', 'openstf.io', 'opentargets.io', 'orghunter.com', 'osf.io', 'osisoft.com', 'owler.com', 'oxforddictionaries.com', 'paccurate.io', 'pandorabots.com', 'passwordutility.net', 'patientview.org', 'paylocity.com', 'payments.service.gov.uk:payments', 'payrun.io', 'peel-ci.com', 'personio.de:authentication', 'personio.de:personnel', 'phila.gov:pollingplaces', 'polygon.io', 'postmarkapp.com:account', 'postmarkapp.com:server', 'posty-api.herokuapp.com', 'ptv.vic.gov.au', 'qualpay.com', 'quotes.rest', 'rbaskets.in', 'rebilly.com', 'receptive.io', 'refugerestrooms.org', 'reverb.com', 'ritc.io', 'ritekit.com', 'roaring.io', 'rottentomatoes.com', 'rummblelabs.com', 'runscope.com', 'salesloft.com', 'schooldigger.com', 'scrapewebsite.email', 'selectpdf.com', 'semantria.com', 'sendgrid.com', 'shipstation.com', 'simplyrets.com', 'slack.com', 'slicebox.local', 'slideroom.com', 'smart-me.com', 'solarvps.com', 'spectrocoin.com', 'spinbot.net', 'spinitron.com', 'spotify.com', 'squareup.com', 'stackexchange.com', 'staging-ecotaco.com', 'statsocial.com', 'stoplight.io', 'storecove.com', 'stripe.com', 'surrey.ca:open511', 'surrey.ca:trafficloops', 'swagger.io:generator', 'swaggerhub.com', 'synq.fm', 'taggun.io', 'taxamo.com', 'taxrates.io', 'tfl.gov.uk', 'thenounproject.com', 'thesmsworks.co.uk', 'thetvdb.com', 'traccar.org', 'transavia.com', 'trello.com', 'turbinelabs.io', 'tvmaze.com', 'twilio.com', 'twinehealth.com', 'twitter.com', 'tyk.com', 'uebermaps.com', 'vatapi.com', 'versioneye.com', 'vestorly.com', 'victorops.com', 'visagecloud.com', 'vocadb.net', 'voodoomfg.com', 'waag.org', 'watchful.li', 'waterlinked.com', 'wavecell.com', 'wealthport.com', 'weatherbit.io', 'weber-gesamtausgabe.de', 'whapi.com:accounts', 'whapi.com:bets', 'whapi.com:locations', 'whapi.com:numbers', 'whapi.com:sessions', 'whapi.com:sportsdata', 'who-hosts-this.com', 'wikimedia.org', 'windows.net:batch-BatchService', 'windows.net:graphrbac', 'winning.email', 'winsms.co.za', 'wmata.com:bus-realtime', 'wmata.com:bus-route', 'wmata.com:incidents', 'wmata.com:rail-realtime', 'wmata.com:rail-station', 'wordassociations.net', 'wordnik.com', 'wowza.com', 'wso2apistore.com:transform', 'xero.com', 'xkcd.com', 'yunbi.com', 'zalando.com', 'zappiti.com', 'zoom.us', 'zoomconnect.com', 'zuora.com']\n"
     ]
    }
   ],
   "source": [
    "specjsons = dict()\n",
    "\n",
    "with open('obj/specs.pkl', 'rb') as handle:\n",
    "    specjsons = pickle.load(handle)\n",
    "\n",
    "keys = list(specjsons.keys())\n",
    "print(keys)"
   ]
  },
  {
   "cell_type": "code",
   "execution_count": 5,
   "metadata": {},
   "outputs": [
    {
     "name": "stdout",
     "output_type": "stream",
     "text": [
      "dict_keys(['swagger', 'schemes', 'host', 'basePath', 'info', 'parameters', 'responses', 'paths', 'definitions'])\n"
     ]
    }
   ],
   "source": [
    "print(specjsons[keys[1]].keys())"
   ]
  },
  {
   "cell_type": "code",
   "execution_count": 14,
   "metadata": {},
   "outputs": [
    {
     "name": "stdout",
     "output_type": "stream",
     "text": [
      "{'description': '### The Internet of Things for Everyone\\n\\nThe Adafruit IO HTTP API provides access to your Adafruit IO data from any programming language or hardware environment that can speak HTTP. The easiest way to get started is with [an Adafruit IO learn guide](https://learn.adafruit.com/series/adafruit-io-basics) and [a simple Internet of Things capable device like the Feather Huzzah](https://www.adafruit.com/product/2821).\\n\\nThis API documentation is hosted on GitHub Pages and is available at [https://github.com/adafruit/io-api](https://github.com/adafruit/io-api). For questions or comments visit the [Adafruit IO Forums](https://forums.adafruit.com/viewforum.php?f=56) or the [adafruit-io channel on the Adafruit Discord server](https://discord.gg/adafruit).\\n\\n#### Authentication\\n\\nAuthentication for every API request happens through the `X-AIO-Key` header or query parameter and your IO API key. A simple cURL request to get all available feeds for a user with the username \"io_username\" and the key \"io_key_12345\" could look like this:\\n\\n    $ curl -H \"X-AIO-Key: io_key_12345\" https://io.adafruit.com/api/v2/io_username/feeds\\n\\nOr like this:\\n\\n    $ curl \"https://io.adafruit.com/api/v2/io_username/feeds?X-AIO-Key=io_key_12345\\n\\nUsing the node.js [request](https://github.com/request/request) library, IO HTTP requests are as easy as:\\n\\n```js\\nvar request = require(\\'request\\');\\n\\nvar options = {\\n  url: \\'https://io.adafruit.com/api/v2/io_username/feeds\\',\\n  headers: {\\n    \\'X-AIO-Key\\': \\'io_key_12345\\',\\n    \\'Content-Type\\': \\'application/json\\'\\n  }\\n};\\n\\nfunction callback(error, response, body) {\\n  if (!error && response.statusCode == 200) {\\n    var feeds = JSON.parse(body);\\n    console.log(feeds.length + \" FEEDS AVAILABLE\");\\n\\n    feeds.forEach(function (feed) {\\n      console.log(feed.name, feed.key);\\n    })\\n  }\\n}\\n\\nrequest(options, callback);\\n```\\n\\n#### Client Libraries\\n\\nWe have client libraries to help you get started with your project: [Python](https://github.com/adafruit/io-client-python), [Ruby](https://github.com/adafruit/io-client-ruby), [Arduino C++](https://github.com/adafruit/Adafruit_IO_Arduino), [Javascript](https://github.com/adafruit/adafruit-io-node), and [Go](https://github.com/adafruit/io-client-go) are available. They\\'re all open source, so if they don\\'t already do what you want, you can fork and add any feature you\\'d like.\\n\\n', 'title': 'Adafruit IO', 'version': '2.0.0', 'x-apisguru-categories': ['iot'], 'x-logo': {'url': 'https://api.apis.guru/v2/cache/logo/https_io.adafruit.com_api_docs_adafruit-flower-left.png'}, 'x-origin': [{'format': 'swagger', 'url': 'https://raw.githubusercontent.com/adafruit/io-api/gh-pages/v2.json', 'version': '2.0'}], 'x-preferred': True, 'x-providerName': 'adafruit.com'}\n"
     ]
    }
   ],
   "source": [
    "info = specjsons[keys[2]]['info']\n",
    "print(info)"
   ]
  },
  {
   "cell_type": "code",
   "execution_count": 19,
   "metadata": {
    "collapsed": true
   },
   "outputs": [
    {
     "name": "stdout",
     "output_type": "stream",
     "text": [
      "dict_keys(['1forge.com', '6-dot-authentiqio.appspot.com', 'adafruit.com', 'adobe.com:aem', 'afterbanks.com', 'agco-ats.com', 'airport-web.appspot.com', 'amadeus.com', 'amazonaws.com:AWSMigrationHub', 'amazonaws.com:acm', 'amazonaws.com:alexaforbusiness', 'amazonaws.com:apigateway', 'amazonaws.com:application-autoscaling', 'amazonaws.com:appstream', 'amazonaws.com:appsync', 'amazonaws.com:athena', 'amazonaws.com:autoscaling', 'amazonaws.com:autoscaling-plans', 'amazonaws.com:batch', 'amazonaws.com:budgets', 'amazonaws.com:ce', 'amazonaws.com:cloud9', 'amazonaws.com:clouddirectory', 'amazonaws.com:cloudformation', 'amazonaws.com:cloudfront', 'amazonaws.com:cloudhsm', 'amazonaws.com:cloudhsmv2', 'amazonaws.com:cloudsearch', 'amazonaws.com:cloudsearchdomain', 'amazonaws.com:cloudtrail', 'amazonaws.com:codebuild', 'amazonaws.com:codecommit', 'amazonaws.com:codedeploy', 'amazonaws.com:codepipeline', 'amazonaws.com:codestar', 'amazonaws.com:cognito-identity', 'amazonaws.com:cognito-idp', 'amazonaws.com:cognito-sync', 'amazonaws.com:comprehend', 'amazonaws.com:config', 'amazonaws.com:cur', 'amazonaws.com:datapipeline', 'amazonaws.com:dax', 'amazonaws.com:devicefarm', 'amazonaws.com:directconnect', 'amazonaws.com:discovery', 'amazonaws.com:dms', 'amazonaws.com:ds', 'amazonaws.com:dynamodb', 'amazonaws.com:ec2', 'amazonaws.com:ecr', 'amazonaws.com:ecs', 'amazonaws.com:elasticache', 'amazonaws.com:elasticbeanstalk', 'amazonaws.com:elasticfilesystem', 'amazonaws.com:elasticloadbalancing', 'amazonaws.com:elasticloadbalancingv2', 'amazonaws.com:elasticmapreduce', 'amazonaws.com:elastictranscoder', 'amazonaws.com:email', 'amazonaws.com:entitlement.marketplace', 'amazonaws.com:es', 'amazonaws.com:events', 'amazonaws.com:firehose', 'amazonaws.com:gamelift', 'amazonaws.com:glacier', 'amazonaws.com:glue', 'amazonaws.com:greengrass', 'amazonaws.com:guardduty', 'amazonaws.com:health', 'amazonaws.com:iam', 'amazonaws.com:importexport', 'amazonaws.com:inspector', 'amazonaws.com:iot', 'amazonaws.com:iot-data', 'amazonaws.com:iot-jobs-data', 'amazonaws.com:kinesis', 'amazonaws.com:kinesis-video-archived-media', 'amazonaws.com:kinesis-video-media', 'amazonaws.com:kinesisanalytics', 'amazonaws.com:kinesisvideo', 'amazonaws.com:kms', 'amazonaws.com:lambda', 'amazonaws.com:lex-models', 'amazonaws.com:lightsail', 'amazonaws.com:logs', 'amazonaws.com:machinelearning', 'amazonaws.com:marketplacecommerceanalytics', 'amazonaws.com:mediaconvert', 'amazonaws.com:medialive', 'amazonaws.com:mediapackage', 'amazonaws.com:mediastore', 'amazonaws.com:mediastore-data', 'amazonaws.com:meteringmarketplace', 'amazonaws.com:mobile', 'amazonaws.com:mobileanalytics', 'amazonaws.com:monitoring', 'amazonaws.com:mq', 'amazonaws.com:mturk-requester', 'amazonaws.com:opsworks', 'amazonaws.com:opsworkscm', 'amazonaws.com:organizations', 'amazonaws.com:pinpoint', 'amazonaws.com:polly', 'amazonaws.com:pricing', 'amazonaws.com:rds', 'amazonaws.com:redshift', 'amazonaws.com:rekognition', 'amazonaws.com:resource-groups', 'amazonaws.com:resourcegroupstaggingapi', 'amazonaws.com:route53', 'amazonaws.com:route53domains', 'amazonaws.com:runtime.lex', 'amazonaws.com:runtime.sagemaker', 'amazonaws.com:s3', 'amazonaws.com:sagemaker', 'amazonaws.com:sdb', 'amazonaws.com:serverlessrepo', 'amazonaws.com:servicecatalog', 'amazonaws.com:servicediscovery', 'amazonaws.com:shield', 'amazonaws.com:sms', 'amazonaws.com:snowball', 'amazonaws.com:sns', 'amazonaws.com:sqs', 'amazonaws.com:ssm', 'amazonaws.com:states', 'amazonaws.com:storagegateway', 'amazonaws.com:streams.dynamodb', 'amazonaws.com:sts', 'amazonaws.com:support', 'amazonaws.com:swf', 'amazonaws.com:transcribe', 'amazonaws.com:translate', 'amazonaws.com:waf', 'amazonaws.com:waf-regional', 'amazonaws.com:workdocs', 'amazonaws.com:workmail', 'amazonaws.com:workspaces', 'amazonaws.com:xray', 'anchore.io', 'apache.org:qakka', 'apacta.com', 'api2cart.com', 'apigee.net:marketcheck-cars', 'apimatic.io', 'apis.guru', 'apitore.com:2chMatomeFeedsApis', 'apitore.com:certificateFeedsApis', 'apitore.com:cosineSimilarity', 'apitore.com:designFeedsApis', 'apitore.com:documentFrequencyApis', 'apitore.com:gameFeedsApis', 'apitore.com:japaneseWordnetApis', 'apitore.com:kmeansClusteringByWord2vec', 'apitore.com:kuromojiApis', 'apitore.com:languageDetectionApis', 'apitore.com:newsFeedsApis', 'apitore.com:pioneerBlogFeedsApis', 'apitore.com:rss2jsonApis', 'apitore.com:sentenceSeparatorApis', 'apitore.com:sentenceSimilarity', 'apitore.com:sentencepieceApis_tweet_', 'apitore.com:sentencepieceApis_wikipedia_', 'apitore.com:sentimentApis', 'apitore.com:synonymApis', 'apitore.com:techFeedsApis', 'apitore.com:text2labelByTfidfApis', 'apitore.com:text2labelByWordVectorApis', 'apitore.com:travelFeedsApis', 'apitore.com:tweetSummarizationApis', 'apitore.com:twitterApis', 'apitore.com:twitterApisWithSentimentByApitoreSentimentApi', 'apitore.com:twitterApisWithWord2vecQueryExpansion', 'apitore.com:twitterApisWithWord2vecQueryExpansion,AndAddSentimentByApitoreSentimentApi', 'apitore.com:url2hrefApis', 'apitore.com:url2htmlApis', 'apitore.com:url2labelByTfidfApis', 'apitore.com:url2labelByWordVectorApis', 'apitore.com:url2srcApis', 'apitore.com:url2textApis', 'apitore.com:word2vecApis', 'apitore.com:wordnetApis', 'apitore.com:wordnetHypernymApis', 'apitore.com:wordnetHyponymApis', 'apitore.com:wordnetSimilarityApis', 'apitore.com:wordnetSynonymApis', 'apitore.com:wordnetTranslationApis', 'apitore.com:wordsToVectorsApis', 'applicationinsights.io:applicationinsights-AppInsights', 'appveyor.com', 'archive.org:search', 'archive.org:wayback', 'art19.com', 'ato.gov.au', 'aucklandmuseum.com', 'authentiq.io', 'avaza.com', 'aviationdata.systems', 'azure.com:advisor', 'azure.com:analysisservices', 'azure.com:apimanagement', 'azure.com:apimanagement-apimapis', 'azure.com:apimanagement-apimauthorizationservers', 'azure.com:apimanagement-apimbackends', 'azure.com:apimanagement-apimcertificates', 'azure.com:apimanagement-apimdeployment', 'azure.com:apimanagement-apimdiagnostics', 'azure.com:apimanagement-apimemailtemplate', 'azure.com:apimanagement-apimgroups', 'azure.com:apimanagement-apimidentityprovider', 'azure.com:apimanagement-apimloggers', 'azure.com:apimanagement-apimnetworkstatus', 'azure.com:apimanagement-apimnotifications', 'azure.com:apimanagement-apimopenidconnectproviders', 'azure.com:apimanagement-apimproducts', 'azure.com:apimanagement-apimproperties', 'azure.com:apimanagement-apimquotas', 'azure.com:apimanagement-apimreports', 'azure.com:apimanagement-apimsubscriptions', 'azure.com:apimanagement-apimtagresources', 'azure.com:apimanagement-apimtags', 'azure.com:apimanagement-apimtenant', 'azure.com:apimanagement-apimusers', 'azure.com:apimanagement-apimversionsets', 'azure.com:applicationinsights-aiOperations_API', 'azure.com:applicationinsights-componentAnnotations_API', 'azure.com:applicationinsights-componentApiKeys_API', 'azure.com:applicationinsights-componentContinuousExport_API', 'azure.com:applicationinsights-componentFeaturesAndPricing_API', 'azure.com:applicationinsights-componentProactiveDetection_API', 'azure.com:applicationinsights-componentWorkItemConfigs_API', 'azure.com:applicationinsights-components_API', 'azure.com:applicationinsights-favorites_API', 'azure.com:applicationinsights-webTestLocations_API', 'azure.com:applicationinsights-webTests_API', 'azure.com:authorization', 'azure.com:authorization-authorization-ClassicAdminCalls', 'azure.com:authorization-authorization-RACalls', 'azure.com:authorization-authorization-RoleBasedCalls', 'azure.com:automation-account', 'azure.com:automation-certificate', 'azure.com:automation-connection', 'azure.com:automation-connectionType', 'azure.com:automation-credential', 'azure.com:automation-dscCompilationJob', 'azure.com:automation-dscConfiguration', 'azure.com:automation-dscNode', 'azure.com:automation-dscNodeConfiguration', 'azure.com:automation-hybridRunbookWorkerGroup', 'azure.com:automation-job', 'azure.com:automation-jobSchedule', 'azure.com:automation-linkedWorkspace', 'azure.com:automation-module', 'azure.com:automation-runbook', 'azure.com:automation-schedule', 'azure.com:automation-softwareUpdateConfiguration', 'azure.com:automation-softwareUpdateConfigurationMachineRun', 'azure.com:automation-softwareUpdateConfigurationRun', 'azure.com:automation-sourceControl', 'azure.com:automation-sourceControlSyncJob', 'azure.com:automation-variable', 'azure.com:automation-webhook', 'azure.com:azsadmin-Alert', 'azure.com:azsadmin-CommerceAdmin', 'azure.com:azsadmin-EdgeGateway', 'azure.com:azsadmin-EdgeGatewayPool', 'azure.com:azsadmin-FabricLocation', 'azure.com:azsadmin-FileShare', 'azure.com:azsadmin-InfraRole', 'azure.com:azsadmin-InfraRoleInstance', 'azure.com:azsadmin-IpPool', 'azure.com:azsadmin-LogicalNetwork', 'azure.com:azsadmin-LogicalSubnet', 'azure.com:azsadmin-MacAddressPool', 'azure.com:azsadmin-Operations', 'azure.com:azsadmin-RegionHealth', 'azure.com:azsadmin-ResourceHealth', 'azure.com:azsadmin-ScaleUnit', 'azure.com:azsadmin-ScaleUnitNode', 'azure.com:azsadmin-ServiceHealth', 'azure.com:azsadmin-SlbMuxInstance', 'azure.com:azsadmin-StoragePool', 'azure.com:azsadmin-StorageSystem', 'azure.com:azsadmin-Volume', 'azure.com:azurestack-AzureStack', 'azure.com:azurestack-CustomerSubscription', 'azure.com:azurestack-Product', 'azure.com:azurestack-Registration', 'azure.com:batch-BatchManagement', 'azure.com:batchai-BatchAI', 'azure.com:billing', 'azure.com:cdn', 'azure.com:cognitiveservices', 'azure.com:cognitiveservices-ComputerVision', 'azure.com:cognitiveservices-ContentModerator', 'azure.com:cognitiveservices-Face', 'azure.com:cognitiveservices-LUIS-Programmatic', 'azure.com:cognitiveservices-LUIS-Runtime', 'azure.com:cognitiveservices-TextAnalytics', 'azure.com:commerce', 'azure.com:compute', 'azure.com:compute-containerService', 'azure.com:compute-disk', 'azure.com:compute-runCommands', 'azure.com:compute-skus', 'azure.com:compute-swagger', 'azure.com:consumption', 'azure.com:containerinstance-containerInstance', 'azure.com:containerregistry', 'azure.com:containerservices-containerService', 'azure.com:containerservices-location', 'azure.com:containerservices-managedClusters', 'azure.com:cosmos-db', 'azure.com:customer-insights', 'azure.com:datacatalog', 'azure.com:datafactory', 'azure.com:datalake-analytics-account', 'azure.com:datalake-analytics-catalog', 'azure.com:datalake-analytics-job', 'azure.com:datalake-store-account', 'azure.com:datalake-store-filesystem', 'azure.com:datamigration', 'azure.com:deviceprovisioningservices-iotdps', 'azure.com:devtestlabs-DTL', 'azure.com:dns', 'azure.com:domainservices', 'azure.com:eventgrid-EventGrid', 'azure.com:eventhub-EventHub', 'azure.com:hanaonazure', 'azure.com:hdinsight-applications', 'azure.com:hdinsight-capabilities', 'azure.com:hdinsight-cluster', 'azure.com:hdinsight-configurations', 'azure.com:hdinsight-extensions', 'azure.com:hdinsight-operations', 'azure.com:hdinsight-scriptActions', 'azure.com:intune', 'azure.com:iothub', 'azure.com:keyvault', 'azure.com:keyvault-providers', 'azure.com:keyvault-secrets', 'azure.com:locationbasedservices', 'azure.com:logic', 'azure.com:machinelearning-commitmentPlans', 'azure.com:machinelearning-webservices', 'azure.com:machinelearning-workspaces', 'azure.com:machinelearningcompute-machineLearningCompute', 'azure.com:machinelearningexperimentation-machineLearningExperimentation', 'azure.com:managementgroups-management', 'azure.com:managementpartner-ManagementPartner', 'azure.com:marketplaceordering-Agreements', 'azure.com:mediaservices-media', 'azure.com:migrate', 'azure.com:mobileengagement-mobile-engagement', 'azure.com:monitor-actionGroups_API', 'azure.com:monitor-activityLogAlerts_API', 'azure.com:monitor-activityLogs_API', 'azure.com:monitor-alertRulesIncidents_API', 'azure.com:monitor-alertRules_API', 'azure.com:monitor-autoscale_API', 'azure.com:monitor-baseline_API', 'azure.com:monitor-calculateBaseline_API', 'azure.com:monitor-diagnosticsSettingsCategories_API', 'azure.com:monitor-diagnosticsSettings_API', 'azure.com:monitor-eventCategories_API', 'azure.com:monitor-logProfiles_API', 'azure.com:monitor-metricDefinitions_API', 'azure.com:monitor-metrics_API', 'azure.com:monitor-operations_API', 'azure.com:monitor-serviceDiagnosticsSettings_API', 'azure.com:monitor-tenantActivityLogs_API', 'azure.com:msi-ManagedIdentity', 'azure.com:mysql', 'azure.com:network', 'azure.com:network-applicationGateway', 'azure.com:network-applicationSecurityGroup', 'azure.com:network-checkDnsAvailability', 'azure.com:network-endpointService', 'azure.com:network-expressRouteCircuit', 'azure.com:network-loadBalancer', 'azure.com:network-networkInterface', 'azure.com:network-networkSecurityGroup', 'azure.com:network-networkWatcher', 'azure.com:network-operation', 'azure.com:network-publicIpAddress', 'azure.com:network-routeFilter', 'azure.com:network-routeTable', 'azure.com:network-serviceCommunity', 'azure.com:network-usage', 'azure.com:network-virtualNetwork', 'azure.com:network-virtualNetworkGateway', 'azure.com:network-vmssNetworkInterface', 'azure.com:network-vmssPublicIpAddress', 'azure.com:notificationhubs', 'azure.com:operationalinsights-OperationalInsights', 'azure.com:operationsmanagement-OperationsManagement', 'azure.com:policyinsights-policyEvents', 'azure.com:policyinsights-policyStates', 'azure.com:postgresql', 'azure.com:powerbidedicated', 'azure.com:powerbiembedded', 'azure.com:provisioningservices-iotdps', 'azure.com:recoveryservices-backup', 'azure.com:recoveryservices-registeredidentities', 'azure.com:recoveryservices-replicationusages', 'azure.com:recoveryservices-vaults', 'azure.com:recoveryservices-vaultusages', 'azure.com:recoveryservicesbackup', 'azure.com:recoveryservicesbackup-backupManagement', 'azure.com:recoveryservicesbackup-bms', 'azure.com:recoveryservicesbackup-jobs', 'azure.com:recoveryservicesbackup-operations', 'azure.com:recoveryservicesbackup-registeredIdentities', 'azure.com:recoveryservicessiterecovery-service', 'azure.com:redis', 'azure.com:relay', 'azure.com:reservations', 'azure.com:resourcehealth', 'azure.com:resources', 'azure.com:resources-features', 'azure.com:resources-links', 'azure.com:resources-locks', 'azure.com:resources-managedapplications', 'azure.com:resources-management', 'azure.com:resources-policy', 'azure.com:resources-policyAssignments', 'azure.com:resources-policyDefinitions', 'azure.com:resources-policySetDefinitions', 'azure.com:resources-subscriptions', 'azure.com:scheduler', 'azure.com:search', 'azure.com:search-searchindex', 'azure.com:search-searchservice', 'azure.com:servermanagement', 'azure.com:service-map-arm-service-map', 'azure.com:servicebus', 'azure.com:servicefabric', 'azure.com:sql-Databases', 'azure.com:sql-advisors', 'azure.com:sql-backupLongTermRetentionPolicies', 'azure.com:sql-backupLongTermRetentionVaults', 'azure.com:sql-backups', 'azure.com:sql-blobAuditingPolicies', 'azure.com:sql-cancelOperations', 'azure.com:sql-cancelPoolOperations', 'azure.com:sql-capabilities', 'azure.com:sql-checkNameAvailability', 'azure.com:sql-connectionPolicies', 'azure.com:sql-dataMasking', 'azure.com:sql-dataWarehouseUserActivities', 'azure.com:sql-databaseAutomaticTuning', 'azure.com:sql-databaseSecurityAlertPolicies', 'azure.com:sql-databases', 'azure.com:sql-deprecated', 'azure.com:sql-disasterRecoveryConfigurations', 'azure.com:sql-elasticPools', 'azure.com:sql-encryptionProtectors', 'azure.com:sql-failoverGroups', 'azure.com:sql-firewallRules', 'azure.com:sql-geoBackupPolicies', 'azure.com:sql-importExport', 'azure.com:sql-managedDatabases', 'azure.com:sql-metrics', 'azure.com:sql-operations', 'azure.com:sql-queries', 'azure.com:sql-renameDatabase', 'azure.com:sql-replicationLinks', 'azure.com:sql-restorePoints', 'azure.com:sql-serverAutomaticTuning', 'azure.com:sql-serverAzureADAdministrators', 'azure.com:sql-serverCommunicationLinks', 'azure.com:sql-serverDnsAliases', 'azure.com:sql-serverKeys', 'azure.com:sql-servers', 'azure.com:sql-serviceObjectives', 'azure.com:sql-sql.core', 'azure.com:sql-syncAgents', 'azure.com:sql-syncGroups', 'azure.com:sql-syncMembers', 'azure.com:sql-tableAuditing', 'azure.com:sql-usages', 'azure.com:sql-virtualNetworkRules', 'azure.com:storage', 'azure.com:storageimportexport', 'azure.com:storsimple8000series-storsimple', 'azure.com:streamanalytics-functions', 'azure.com:streamanalytics-inputs', 'azure.com:streamanalytics-outputs', 'azure.com:streamanalytics-streamingjobs', 'azure.com:streamanalytics-subscriptions', 'azure.com:streamanalytics-transformations', 'azure.com:subscription-subscriptionDefinitions', 'azure.com:timeseriesinsights', 'azure.com:trafficmanager', 'azure.com:trafficmanager-trafficmanageranalytics', 'azure.com:visualstudio-Csm', 'azure.com:web-AppServiceCertificateOrders', 'azure.com:web-AppServiceEnvironments', 'azure.com:web-AppServicePlans', 'azure.com:web-CertificateRegistrationProvider', 'azure.com:web-Certificates', 'azure.com:web-DeletedWebApps', 'azure.com:web-Diagnostics', 'azure.com:web-DomainRegistrationProvider', 'azure.com:web-Domains', 'azure.com:web-Provider', 'azure.com:web-Recommendations', 'azure.com:web-ResourceProvider', 'azure.com:web-TopLevelDomains', 'azure.com:web-WebApps', 'azure.com:web-logicAppsManagementClient', 'azure.com:web-service', 'bbc.co.uk', 'bbc.com', 'bbci.co.uk', 'bclaws.ca:bclaws', 'beanstream.com', 'beezup.com', 'betfair.com', 'bigoven.com', 'bikewise.org', 'bitbucket.org', 'blazemeter.com', 'bluemix.net:containers', 'botify.com', 'box.com:authorization', 'box.com:content', 'box.com:token', 'box.com:upload', 'brandlovers.com', 'brex.io', 'browshot.com', 'bufferapp.com', 'bungie.net', 'callfire.com', 'cambase.io', 'carbondoomsday.com', 'ccp.is', 'cenit.io', 'channel4.com', 'circleci.com', 'circuitsandbox.net', 'cisco.com', 'citrixonline.com:gotomeeting', 'citrixonline.com:scim', 'citycontext.com', 'clarify.io', 'clever-cloud.com', 'clever.com', 'clickmeter.com', 'cloudmersive.com:ocr', 'cnab-online.herokuapp.com', 'code-scan.com', 'consumerfinance.gov', 'core.ac.uk', 'cybertaxonomy.eu', 'data.gov', 'data2crm.com', 'dataatwork.org', 'datumbox.com', 'deeparteffects.com', 'deutschebahn.com:betriebsstellen', 'deutschebahn.com:fahrplan', 'deutschebahn.com:fasta', 'deutschebahn.com:flinkster', 'deutschebahn.com:reisezentren', 'deutschebahn.com:stada', 'digitallinguistics.io', 'docker.com:engine', 'docusign.net', 'domainsdb.info', 'dracoon.team', 'dropx.io', 'dweet.io', 'ebay.com:buy-browse', 'ebay.com:buy-feed', 'ebay.com:buy-marketing', 'ebay.com:commerce-taxonomy', 'ebay.com:sell-fulfillment', 'envoice.in', 'epa.gov:air', 'epa.gov:case', 'epa.gov:cwa', 'epa.gov:dfr', 'epa.gov:echo', 'epa.gov:eff', 'epa.gov:rcra', 'epa.gov:sdw', 'etmdb.com', 'europeana.eu', 'exavault.com', 'fantasydata.net:cbb-v3-scores', 'fantasydata.net:cbb-v3-stats', 'fantasydata.net:cfb-v3-scores', 'fantasydata.net:golf-v2', 'fantasydata.net:mlb-v3-play-by-play', 'fantasydata.net:mlb-v3-projections', 'fantasydata.net:mlb-v3-projections-dfsr', 'fantasydata.net:mlb-v3-rotoballer-articles', 'fantasydata.net:mlb-v3-rotoballer-premium-news', 'fantasydata.net:mlb-v3-scores', 'fantasydata.net:mlb-v3-stats', 'fantasydata.net:nascar-v2', 'fantasydata.net:nba-v3-play-by-play', 'fantasydata.net:nba-v3-projections', 'fantasydata.net:nba-v3-rotoballer-articles', 'fantasydata.net:nba-v3-rotoballer-premium-news', 'fantasydata.net:nba-v3-scores', 'fantasydata.net:nba-v3-stats', 'fantasydata.net:nfl-v3-play-by-play', 'fantasydata.net:nfl-v3-projections', 'fantasydata.net:nfl-v3-projections-dfsr', 'fantasydata.net:nfl-v3-rotoballer-articles', 'fantasydata.net:nfl-v3-rotoballer-premium-news', 'fantasydata.net:nfl-v3-scores', 'fantasydata.net:nfl-v3-stats', 'fantasydata.net:nhl-v3-play-by-play', 'fantasydata.net:nhl-v3-projections', 'fantasydata.net:nhl-v3-scores', 'fantasydata.net:nhl-v3-stats', 'fantasydata.net:soccer-v3-projections', 'fantasydata.net:soccer-v3-scores', 'fantasydata.net:soccer-v3-stats', 'figshare.com', 'firebrowse.org', 'flat.io', 'flickr.com', 'formapi.io', 'freesound.org', 'funtranslations.com', 'furkot.com', 'geneea.com', 'geodesystems.com', 'getgo.com:gototraining', 'getgo.com:gotowebinar', 'getsandbox.com', 'gettyimages.com', 'giphy.com', 'gisgraphy.com', 'github.com', 'gitlab.com', 'googleapis.com:abusiveexperiencereport', 'googleapis.com:acceleratedmobilepageurl', 'googleapis.com:adexchangebuyer', 'googleapis.com:adexchangebuyer2', 'googleapis.com:adexchangeseller', 'googleapis.com:adexperiencereport', 'googleapis.com:admin', 'googleapis.com:adsense', 'googleapis.com:adsensehost', 'googleapis.com:analytics', 'googleapis.com:analyticsreporting', 'googleapis.com:androiddeviceprovisioning', 'googleapis.com:androidenterprise', 'googleapis.com:androidmanagement', 'googleapis.com:androidpublisher', 'googleapis.com:appengine', 'googleapis.com:appsactivity', 'googleapis.com:appstate', 'googleapis.com:bigquery', 'googleapis.com:bigquerydatatransfer', 'googleapis.com:blogger', 'googleapis.com:books', 'googleapis.com:calendar', 'googleapis.com:chat', 'googleapis.com:civicinfo', 'googleapis.com:classroom', 'googleapis.com:cloudbilling', 'googleapis.com:cloudbuild', 'googleapis.com:clouddebugger', 'googleapis.com:clouderrorreporting', 'googleapis.com:cloudfunctions', 'googleapis.com:cloudiot', 'googleapis.com:cloudkms', 'googleapis.com:cloudmonitoring', 'googleapis.com:cloudresourcemanager', 'googleapis.com:cloudshell', 'googleapis.com:cloudtasks', 'googleapis.com:cloudtrace', 'googleapis.com:clouduseraccounts', 'googleapis.com:compute', 'googleapis.com:consumersurveys', 'googleapis.com:container', 'googleapis.com:content', 'googleapis.com:customsearch', 'googleapis.com:dataflow', 'googleapis.com:dataproc', 'googleapis.com:datastore', 'googleapis.com:deploymentmanager', 'googleapis.com:dfareporting', 'googleapis.com:digitalassetlinks', 'googleapis.com:discovery', 'googleapis.com:dlp', 'googleapis.com:dns', 'googleapis.com:doubleclickbidmanager', 'googleapis.com:doubleclicksearch', 'googleapis.com:drive', 'googleapis.com:firebasedynamiclinks', 'googleapis.com:firebaseremoteconfig', 'googleapis.com:firebaserules', 'googleapis.com:firestore', 'googleapis.com:fitness', 'googleapis.com:fusiontables', 'googleapis.com:games', 'googleapis.com:gamesConfiguration', 'googleapis.com:gamesManagement', 'googleapis.com:genomics', 'googleapis.com:gmail', 'googleapis.com:groupsmigration', 'googleapis.com:groupssettings', 'googleapis.com:iam', 'googleapis.com:identitytoolkit', 'googleapis.com:kgsearch', 'googleapis.com:language', 'googleapis.com:licensing', 'googleapis.com:logging', 'googleapis.com:manufacturers', 'googleapis.com:mirror', 'googleapis.com:ml', 'googleapis.com:monitoring', 'googleapis.com:oauth2', 'googleapis.com:oslogin', 'googleapis.com:pagespeedonline', 'googleapis.com:partners', 'googleapis.com:people', 'googleapis.com:playcustomapp', 'googleapis.com:playmoviespartner', 'googleapis.com:plus', 'googleapis.com:plusDomains', 'googleapis.com:poly', 'googleapis.com:prediction', 'googleapis.com:proximitybeacon', 'googleapis.com:pubsub', 'googleapis.com:qpxExpress', 'googleapis.com:replicapool', 'googleapis.com:replicapoolupdater', 'googleapis.com:reseller', 'googleapis.com:resourceviews', 'googleapis.com:runtimeconfig', 'googleapis.com:safebrowsing', 'googleapis.com:script', 'googleapis.com:searchconsole', 'googleapis.com:serviceconsumermanagement', 'googleapis.com:servicecontrol', 'googleapis.com:servicemanagement', 'googleapis.com:serviceusage', 'googleapis.com:serviceuser', 'googleapis.com:sheets', 'googleapis.com:siteVerification', 'googleapis.com:slides', 'googleapis.com:sourcerepo', 'googleapis.com:spanner', 'googleapis.com:spectrum', 'googleapis.com:speech', 'googleapis.com:sqladmin', 'googleapis.com:storage', 'googleapis.com:storagetransfer', 'googleapis.com:streetviewpublish', 'googleapis.com:surveys', 'googleapis.com:tagmanager', 'googleapis.com:taskqueue', 'googleapis.com:tasks', 'googleapis.com:testing', 'googleapis.com:toolresults', 'googleapis.com:tpu', 'googleapis.com:tracing', 'googleapis.com:translate', 'googleapis.com:urlshortener', 'googleapis.com:vault', 'googleapis.com:videointelligence', 'googleapis.com:vision', 'googleapis.com:webfonts', 'googleapis.com:webmasters', 'googleapis.com:youtube', 'googleapis.com:youtubeAnalytics', 'googleapis.com:youtubereporting', 'gov.bc.ca:bcdc', 'gov.bc.ca:bcgnws', 'gov.bc.ca:geocoder', 'gov.bc.ca:geomark', 'gov.bc.ca:jobposting', 'gov.bc.ca:news', 'gov.bc.ca:open511', 'gov.bc.ca:router', 'graphhopper.com', 'greenpeace.org', 'gsa.gov', 'hackathonwatch.com', 'haloapi.com:metadata', 'haloapi.com:profile', 'haloapi.com:stats', 'haloapi.com:ugc', 'healthcare.gov', 'hetras-certification.net:booking', 'hetras-certification.net:hotel', 'hhs.gov', 'highwaysengland.co.uk', 'hsbc.com', 'icons8.com', 'idtbeyond.com', 'ijenko.net', 'illumidesk.com', 'import.io:data', 'import.io:extraction', 'import.io:rss', 'import.io:run', 'import.io:schedule', 'inboxroute.com', 'infermedica.com', 'instagram.com', 'instawell.com', 'iqualify.com', 'isbndb.com', 'isendpro.com', 'iva-api.com', 'je-apis.com', 'jirafe.com', 'jumpseller.com', 'just-eat.co.uk', 'koomalooma.com', 'kubernetes.io', 'landregistry.gov.uk:deed', 'launchdarkly.com', 'learnifier.com', 'letmc.com:basic-tier', 'letmc.com:customer', 'letmc.com:diary', 'letmc.com:free-tier', 'letmc.com:maintenance', 'letmc.com:reporting', 'link.fish', 'loganalytics.io:operationalinsights-OperationalInsights', 'lotadata.com', 'lufthansa.com:partner', 'lufthansa.com:public', 'lyft.com', 'magento.com', 'magick.nu', 'mandrillapp.com', 'mashape.com:geodb', 'mcw.edu', 'medium.com', 'miataru.com', 'microsoft.com:cognitiveservices-CustomSearch', 'microsoft.com:cognitiveservices-EntitySearch', 'microsoft.com:cognitiveservices-ImageSearch', 'microsoft.com:cognitiveservices-NewsSearch', 'microsoft.com:cognitiveservices-Prediction', 'microsoft.com:cognitiveservices-SpellCheck', 'microsoft.com:cognitiveservices-Training', 'microsoft.com:cognitiveservices-VideoSearch', 'microsoft.com:cognitiveservices-WebSearch', 'moonmoonmoonmoon.com', 'motaword.com', 'mozilla.com:kinto', 'nativeads.com', 'naviplancentral.com:factfinder', 'naviplancentral.com:plan', 'nba.com', 'neowsapp.com', 'netatmo.net', 'netlicensing.io', 'netlify.com', 'neutrinoapi.com', 'nfusionsolutions.biz', 'noosh.com', 'npr.org', 'nrel.gov:building-case-studies', 'nrel.gov:transportation-incentives-laws', 'nsidc.org', 'nytimes.com:archive', 'nytimes.com:article_search', 'nytimes.com:books_api', 'nytimes.com:community', 'nytimes.com:geo_api', 'nytimes.com:most_popular_api', 'nytimes.com:movie_reviews', 'nytimes.com:semantic_api', 'nytimes.com:times_tags', 'nytimes.com:timeswire', 'nytimes.com:top_stories', 'o2.cz:mobility', 'o2.cz:sociodemo', 'oceandrivers.com', 'omdbapi.com', 'openapi-converter.herokuapp.com', 'openbanking.org.uk', 'opencagedata.com', 'opendatasoft.com', 'openfintech.io', 'openstf.io', 'opentargets.io', 'orghunter.com', 'osf.io', 'osisoft.com', 'owler.com', 'oxforddictionaries.com', 'paccurate.io', 'pandorabots.com', 'passwordutility.net', 'patientview.org', 'paylocity.com', 'payments.service.gov.uk:payments', 'payrun.io', 'peel-ci.com', 'personio.de:authentication', 'personio.de:personnel', 'phila.gov:pollingplaces', 'polygon.io', 'postmarkapp.com:account', 'postmarkapp.com:server', 'posty-api.herokuapp.com', 'ptv.vic.gov.au', 'qualpay.com', 'quotes.rest', 'rbaskets.in', 'rebilly.com', 'receptive.io', 'refugerestrooms.org', 'reverb.com', 'ritc.io', 'ritekit.com', 'roaring.io', 'rottentomatoes.com', 'rummblelabs.com', 'runscope.com', 'salesloft.com', 'schooldigger.com', 'scrapewebsite.email', 'selectpdf.com', 'semantria.com', 'sendgrid.com', 'shipstation.com', 'simplyrets.com', 'slack.com', 'slicebox.local', 'slideroom.com', 'smart-me.com', 'solarvps.com', 'spectrocoin.com', 'spinbot.net', 'spinitron.com', 'spotify.com', 'squareup.com', 'stackexchange.com', 'staging-ecotaco.com', 'statsocial.com', 'stoplight.io', 'storecove.com', 'stripe.com', 'surrey.ca:open511', 'surrey.ca:trafficloops', 'swagger.io:generator', 'swaggerhub.com', 'synq.fm', 'taggun.io', 'taxamo.com', 'taxrates.io', 'tfl.gov.uk', 'thenounproject.com', 'thesmsworks.co.uk', 'thetvdb.com', 'traccar.org', 'transavia.com', 'trello.com', 'turbinelabs.io', 'tvmaze.com', 'twilio.com', 'twinehealth.com', 'twitter.com', 'tyk.com', 'uebermaps.com', 'vatapi.com', 'versioneye.com', 'vestorly.com', 'victorops.com', 'visagecloud.com', 'vocadb.net', 'voodoomfg.com', 'waag.org', 'watchful.li', 'waterlinked.com', 'wavecell.com', 'wealthport.com', 'weatherbit.io', 'weber-gesamtausgabe.de', 'whapi.com:accounts', 'whapi.com:bets', 'whapi.com:locations', 'whapi.com:numbers', 'whapi.com:sessions', 'whapi.com:sportsdata', 'who-hosts-this.com', 'wikimedia.org', 'windows.net:batch-BatchService', 'windows.net:graphrbac', 'winning.email', 'winsms.co.za', 'wmata.com:bus-realtime', 'wmata.com:bus-route', 'wmata.com:incidents', 'wmata.com:rail-realtime', 'wmata.com:rail-station', 'wordassociations.net', 'wordnik.com', 'wowza.com', 'wso2apistore.com:transform', 'xero.com', 'xkcd.com', 'yunbi.com', 'zalando.com', 'zappiti.com', 'zoom.us', 'zoomconnect.com', 'zuora.com'])\n"
     ]
    }
   ],
   "source": [
    "infodict = dict()\n",
    "for spec in specjsons:\n",
    "    info = specjsons[spec]['info']\n",
    "    infodict[spec] = info\n",
    "print(infodict.keys())"
   ]
  },
  {
   "cell_type": "code",
   "execution_count": 21,
   "metadata": {},
   "outputs": [],
   "source": [
    "with open('obj/'+ 'infodict' + '.pkl', 'wb') as f:\n",
    "        pickle.dump(infodict, f, pickle.HIGHEST_PROTOCOL)\n"
   ]
  },
  {
   "cell_type": "code",
   "execution_count": 22,
   "metadata": {},
   "outputs": [],
   "source": [
    "with open('infos_spec.json', 'w') as fp:\n",
    "        json.dump(infodict,fp)"
   ]
  },
  {
   "cell_type": "code",
   "execution_count": 24,
   "metadata": {
    "collapsed": false
   },
   "outputs": [
    {
     "data": {
      "text/plain": [
       "dict_keys(['contact', 'description', 'license', 'termsOfService', 'title', 'version', 'x-apisguru-categories', 'x-logo', 'x-origin', 'x-preferred', 'x-providerName'])"
      ]
     },
     "execution_count": 24,
     "metadata": {},
     "output_type": "execute_result"
    }
   ],
   "source": [
    "infodict[keys[1]].keys()"
   ]
  },
  {
   "cell_type": "code",
   "execution_count": 25,
   "metadata": {},
   "outputs": [
    {
     "data": {
      "text/plain": [
       "dict_keys(['contact', 'description', 'title', 'version', 'x-apisguru-categories', 'x-logo', 'x-origin', 'x-preferred', 'x-providerName'])"
      ]
     },
     "execution_count": 25,
     "metadata": {},
     "output_type": "execute_result"
    }
   ],
   "source": [
    "infodict[keys[0]].keys()"
   ]
  },
  {
   "cell_type": "code",
   "execution_count": 26,
   "metadata": {},
   "outputs": [],
   "source": [
    "info_complete = ['title', 'description', 'termsOfService', 'contact', 'license', 'version']"
   ]
  },
  {
   "cell_type": "code",
   "execution_count": 27,
   "metadata": {
    "collapsed": true
   },
   "outputs": [
    {
     "name": "stdout",
     "output_type": "stream",
     "text": [
      "6\n6\n6\n6\n6\n6\n6\n6\n6\n6\n6\n6\n6\n6\n6\n6\n6\n6\n6\n6\n6\n6\n6\n6\n6\n6\n6\n6\n6\n6\n6\n6\n6\n6\n6\n6\n6\n6\n6\n6\n6\n6\n6\n6\n6\n6\n6\n6\n6\n6\n6\n6\n6\n6\n6\n6\n6\n6\n6\n6\n6\n6\n6\n6\n6\n6\n6\n6\n6\n6\n6\n6\n6\n6\n6\n6\n6\n6\n6\n6\n6\n6\n6\n6\n6\n6\n6\n6\n6\n6\n6\n6\n6\n6\n6\n6\n6\n6\n6\n6\n6\n6\n6\n6\n6\n6\n6\n6\n6\n6\n6\n6\n6\n6\n6\n6\n6\n6\n6\n6\n6\n6\n6\n6\n6\n6\n6\n6\n6\n6\n6\n6\n6\n6\n6\n6\n6\n6\n6\n6\n6\n6\n6\n6\n6\n6\n6\n6\n6\n6\n6\n6\n6\n6\n6\n6\n6\n6\n6\n6\n6\n6\n6\n6\n6\n6\n6\n6\n6\n6\n6\n6\n6\n6\n6\n6\n6\n6\n6\n6\n6\n6\n6\n6\n6\n6\n6\n6\n6\n6\n6\n6\n6\n6\n6\n6\n6\n6\n6\n6\n6\n6\n6\n6\n6\n6\n6\n6\n6\n6\n6\n6\n6\n6\n6\n6\n6\n6\n6\n6\n6\n6\n6\n6\n6\n6\n6\n6\n6\n6\n6\n6\n6\n6\n6\n6\n6\n6\n6\n6\n6\n6\n6\n6\n6\n6\n6\n6\n6\n6\n6\n6\n6\n6\n6\n6\n6\n6\n6\n6\n6\n6\n6\n6\n6\n6\n6\n6\n6\n6\n6\n6\n6\n6\n6\n6\n6\n6\n6\n6\n6\n6\n6\n6\n6\n6\n6\n6\n6\n6\n6\n6\n6\n6\n6\n6\n6\n6\n6\n6\n6\n6\n6\n6\n6\n6\n6\n6\n6\n6\n6\n6\n6\n6\n6\n6\n6\n6\n6\n6\n6\n6\n6\n6\n6\n6\n6\n6\n6\n6\n6\n6\n6\n6\n6\n6\n6\n6\n6\n6\n6\n6\n6\n6\n6\n6\n6\n6\n6\n6\n6\n6\n6\n6\n6\n6\n6\n6\n6\n6\n6\n6\n6\n6\n6\n6\n6\n6\n6\n6\n6\n6\n6\n6\n6\n6\n6\n6\n6\n6\n6\n6\n6\n6\n6\n6\n6\n6\n6\n6\n6\n6\n6\n6\n6\n6\n6\n6\n6\n6\n6\n6\n6\n6\n6\n6\n6\n6\n6\n6\n6\n6\n6\n6\n6\n6\n6\n6\n6\n6\n6\n6\n6\n6\n6\n6\n6\n6\n6\n6\n6\n6\n6\n6\n6\n6\n6\n6\n6\n6\n6\n6\n6\n6\n6\n6\n6\n6\n6\n6\n6\n6\n6\n6\n6\n6\n6\n6\n6\n6\n6\n6\n6\n6\n6\n6\n6\n6\n6\n6\n6\n6\n6\n6\n6\n6\n6\n6\n6\n6\n6\n6\n6\n6\n6\n6\n6\n6\n6\n6\n6\n6\n6\n6\n6\n6\n6\n6\n6\n6\n6\n6\n6\n6\n6\n6\n6\n6\n6\n6\n6\n6\n6\n6\n6\n6\n6\n6\n6\n6\n6\n6\n6\n6\n6\n6\n6\n6\n6\n6\n6\n6\n6\n6\n6\n6\n6\n6\n6\n6\n6\n6\n6\n6\n6\n6\n6\n6\n6\n6\n6\n6\n6\n6\n6\n6\n6\n6\n6\n6\n6\n6\n6\n6\n6\n6\n6\n6\n6\n6\n6\n6\n6\n6\n6\n6\n6\n6\n6\n6\n6\n6\n6\n6\n6\n6\n6\n6\n6\n6\n6\n6\n6\n6\n6\n6\n6\n6\n6\n6\n6\n6\n6\n6\n6\n6\n6\n6\n6\n6\n6\n6\n6\n6\n6\n6\n6\n6\n6\n6\n6\n6\n6\n6\n6\n6\n6\n6\n6\n6\n6\n6\n6\n6\n6\n6\n6\n6\n6\n6\n6\n6\n6\n6\n6\n6\n6\n6\n6\n6\n6\n6\n6\n6\n6\n6\n6\n6\n6\n6\n6\n6\n6\n6\n6\n6\n6\n6\n6\n6\n6\n6\n6\n6\n6\n6\n6\n6\n6\n6\n6\n6\n6\n6\n6\n6\n6\n6\n6\n6\n6\n6\n6\n6\n6\n6\n6\n6\n6\n6\n6\n6\n6\n6\n6\n6\n6\n6\n6\n6\n6\n6\n6\n6\n6\n6\n6\n6\n6\n6\n6\n6\n6\n6\n6\n6\n6\n6\n6\n6\n6\n6\n6\n6\n6\n6\n6\n6\n6\n6\n6\n6\n6\n6\n6\n6\n6\n6\n6\n6\n6\n6\n6\n6\n6\n6\n6\n6\n6\n6\n6\n6\n6\n6\n6\n6\n6\n6\n6\n6\n6\n6\n6\n6\n6\n6\n6\n6\n6\n6\n6\n6\n6\n6\n6\n6\n6\n6\n6\n6\n6\n6\n6\n6\n6\n6\n6\n6\n6\n6\n6\n6\n6\n6\n6\n6\n6\n6\n6\n6\n6\n6\n6\n6\n6\n6\n6\n6\n6\n6\n6\n6\n6\n6\n6\n6\n6\n6\n6\n6\n6\n6\n6\n6\n6\n6\n6\n6\n6\n6\n6\n6\n6\n6\n6\n6\n6\n6\n6\n6\n6\n6\n6\n6\n6\n6\n6\n6\n6\n6\n6\n6\n6\n6\n6\n6\n6\n6\n6\n6\n6\n6\n6\n6\n6\n6\n6\n6\n6\n6\n6\n6\n6\n6\n6\n6\n6\n6\n6\n6\n6\n6\n6\n6\n6\n6\n6\n6\n6\n6\n6\n6\n6\n6\n6\n6\n6\n6\n6\n6\n6\n6\n6\n6\n6\n6\n6\n6\n6\n6\n6\n6\n6\n6\n6\n6\n6\n6\n6\n6\n6\n6\n6\n6\n6\n6\n6\n6\n6\n6\n6\n6\n6\n6\n6\n6\n6\n6\n6\n6\n6\n6\n6\n6\n6\n6\n6\n6\n6\n6\n6\n6\n6\n6\n6\n6\n6\n6\n6\n6\n6\n6\n6\n6\n6\n6\n6\n6\n6\n6\n6\n6\n6\n6\n6\n6\n6\n6\n6\n6\n6\n6\n6\n6\n6\n6\n6\n6\n6\n6\n6\n6\n6\n6\n6\n6\n6\n6\n6\n6\n6\n6\n6\n6\n6\n6\n"
     ]
    }
   ],
   "source": [
    "onehotinfo = dict()\n",
    "\n",
    "for fields in infodict:\n",
    "    listfield = infodict[fields]\n",
    "    onehotvector = []\n",
    "    for field in info_complete:\n",
    "        if field in listfield:\n",
    "            onehotvector.append(1)\n",
    "        else:\n",
    "            onehotvector.append(0)\n",
    "    print(len(onehotvector))\n",
    "    onehotinfo[fields] = onehotvector"
   ]
  },
  {
   "cell_type": "code",
   "execution_count": 30,
   "metadata": {},
   "outputs": [
    {
     "data": {
      "text/plain": [
       "[1, 1, 0, 1, 0, 1]"
      ]
     },
     "execution_count": 30,
     "metadata": {},
     "output_type": "execute_result"
    }
   ],
   "source": [
    "onehotinfo[keys[0]]"
   ]
  },
  {
   "cell_type": "code",
   "execution_count": 31,
   "metadata": {},
   "outputs": [],
   "source": [
    "onehotdf = pd.DataFrame.from_dict(data=onehotinfo, orient = 'index')\n",
    "onehotinfodf = pd.DataFrame(onehotdf.values, index=keys,columns=info_complete)"
   ]
  },
  {
   "cell_type": "code",
   "execution_count": 32,
   "metadata": {},
   "outputs": [
    {
     "data": {
      "text/html": [
       "<div>\n",
       "<style scoped>\n",
       "    .dataframe tbody tr th:only-of-type {\n",
       "        vertical-align: middle;\n",
       "    }\n",
       "\n",
       "    .dataframe tbody tr th {\n",
       "        vertical-align: top;\n",
       "    }\n",
       "\n",
       "    .dataframe thead th {\n",
       "        text-align: right;\n",
       "    }\n",
       "</style>\n",
       "<table border=\"1\" class=\"dataframe\">\n",
       "  <thead>\n",
       "    <tr style=\"text-align: right;\">\n",
       "      <th></th>\n",
       "      <th>title</th>\n",
       "      <th>description</th>\n",
       "      <th>termsOfService</th>\n",
       "      <th>contact</th>\n",
       "      <th>license</th>\n",
       "      <th>version</th>\n",
       "    </tr>\n",
       "  </thead>\n",
       "  <tbody>\n",
       "    <tr>\n",
       "      <th>1forge.com</th>\n",
       "      <td>1</td>\n",
       "      <td>1</td>\n",
       "      <td>0</td>\n",
       "      <td>1</td>\n",
       "      <td>0</td>\n",
       "      <td>1</td>\n",
       "    </tr>\n",
       "    <tr>\n",
       "      <th>6-dot-authentiqio.appspot.com</th>\n",
       "      <td>1</td>\n",
       "      <td>1</td>\n",
       "      <td>1</td>\n",
       "      <td>1</td>\n",
       "      <td>1</td>\n",
       "      <td>1</td>\n",
       "    </tr>\n",
       "    <tr>\n",
       "      <th>adafruit.com</th>\n",
       "      <td>1</td>\n",
       "      <td>1</td>\n",
       "      <td>0</td>\n",
       "      <td>0</td>\n",
       "      <td>0</td>\n",
       "      <td>1</td>\n",
       "    </tr>\n",
       "    <tr>\n",
       "      <th>adobe.com:aem</th>\n",
       "      <td>1</td>\n",
       "      <td>1</td>\n",
       "      <td>0</td>\n",
       "      <td>1</td>\n",
       "      <td>0</td>\n",
       "      <td>1</td>\n",
       "    </tr>\n",
       "    <tr>\n",
       "      <th>afterbanks.com</th>\n",
       "      <td>1</td>\n",
       "      <td>1</td>\n",
       "      <td>0</td>\n",
       "      <td>0</td>\n",
       "      <td>0</td>\n",
       "      <td>1</td>\n",
       "    </tr>\n",
       "  </tbody>\n",
       "</table>\n",
       "</div>"
      ],
      "text/plain": [
       "<div>\n",
       "<style scoped>\n",
       "    .dataframe tbody tr th:only-of-type {\n",
       "        vertical-align: middle;\n",
       "    }\n",
       "\n",
       "    .dataframe tbody tr th {\n",
       "        vertical-align: top;\n",
       "    }\n",
       "\n",
       "    .dataframe thead th {\n",
       "        text-align: right;\n",
       "    }\n",
       "</style>\n",
       "<table border=\"1\" class=\"dataframe\">\n",
       "  <thead>\n",
       "    <tr style=\"text-align: right;\">\n",
       "      <th></th>\n",
       "      <th>title</th>\n",
       "      <th>description</th>\n",
       "      <th>termsOfService</th>\n",
       "      <th>contact</th>\n",
       "      <th>license</th>\n",
       "      <th>version</th>\n",
       "    </tr>\n",
       "  </thead>\n",
       "  <tbody>\n",
       "    <tr>\n",
       "      <th>1forge.com</th>\n",
       "      <td>1</td>\n",
       "      <td>1</td>\n",
       "      <td>0</td>\n",
       "      <td>1</td>\n",
       "      <td>0</td>\n",
       "      <td>1</td>\n",
       "    </tr>\n",
       "    <tr>\n",
       "      <th>6-dot-authentiqio.appspot.com</th>\n",
       "      <td>1</td>\n",
       "      <td>1</td>\n",
       "      <td>1</td>\n",
       "      <td>1</td>\n",
       "      <td>1</td>\n",
       "      <td>1</td>\n",
       "    </tr>\n",
       "    <tr>\n",
       "      <th>adafruit.com</th>\n",
       "      <td>1</td>\n",
       "      <td>1</td>\n",
       "      <td>0</td>\n",
       "      <td>0</td>\n",
       "      <td>0</td>\n",
       "      <td>1</td>\n",
       "    </tr>\n",
       "    <tr>\n",
       "      <th>adobe.com:aem</th>\n",
       "      <td>1</td>\n",
       "      <td>1</td>\n",
       "      <td>0</td>\n",
       "      <td>1</td>\n",
       "      <td>0</td>\n",
       "      <td>1</td>\n",
       "    </tr>\n",
       "    <tr>\n",
       "      <th>afterbanks.com</th>\n",
       "      <td>1</td>\n",
       "      <td>1</td>\n",
       "      <td>0</td>\n",
       "      <td>0</td>\n",
       "      <td>0</td>\n",
       "      <td>1</td>\n",
       "    </tr>\n",
       "  </tbody>\n",
       "</table>\n",
       "</div>"
      ]
     },
     "execution_count": 32,
     "metadata": {},
     "output_type": "execute_result"
    }
   ],
   "source": [
    "onehotinfodf.head()"
   ]
  },
  {
   "cell_type": "code",
   "execution_count": 36,
   "metadata": {},
   "outputs": [],
   "source": [
    ""
   ]
  },
  {
   "cell_type": "code",
   "execution_count": 35,
   "metadata": {},
   "outputs": [],
   "source": [
    "onehotinfodf.to_csv('onehotinfo.csv', encoding='utf8')"
   ]
  },
  {
   "cell_type": "code",
   "execution_count": 36,
   "metadata": {},
   "outputs": [],
   "source": [
    "onehotinfodf['used keys'] = onehotinfodf.eq(1).sum(axis=1)\n",
    "onehotinfodf['missing keys'] = onehotinfodf.eq(0).sum(axis=1)"
   ]
  },
  {
   "cell_type": "code",
   "execution_count": 37,
   "metadata": {},
   "outputs": [
    {
     "data": {
      "text/html": [
       "<div>\n",
       "<style scoped>\n",
       "    .dataframe tbody tr th:only-of-type {\n",
       "        vertical-align: middle;\n",
       "    }\n",
       "\n",
       "    .dataframe tbody tr th {\n",
       "        vertical-align: top;\n",
       "    }\n",
       "\n",
       "    .dataframe thead th {\n",
       "        text-align: right;\n",
       "    }\n",
       "</style>\n",
       "<table border=\"1\" class=\"dataframe\">\n",
       "  <thead>\n",
       "    <tr style=\"text-align: right;\">\n",
       "      <th></th>\n",
       "      <th>title</th>\n",
       "      <th>description</th>\n",
       "      <th>termsOfService</th>\n",
       "      <th>contact</th>\n",
       "      <th>license</th>\n",
       "      <th>version</th>\n",
       "      <th>used keys</th>\n",
       "      <th>missing keys</th>\n",
       "    </tr>\n",
       "  </thead>\n",
       "  <tbody>\n",
       "    <tr>\n",
       "      <th>1forge.com</th>\n",
       "      <td>1</td>\n",
       "      <td>1</td>\n",
       "      <td>0</td>\n",
       "      <td>1</td>\n",
       "      <td>0</td>\n",
       "      <td>1</td>\n",
       "      <td>4</td>\n",
       "      <td>2</td>\n",
       "    </tr>\n",
       "    <tr>\n",
       "      <th>6-dot-authentiqio.appspot.com</th>\n",
       "      <td>1</td>\n",
       "      <td>1</td>\n",
       "      <td>1</td>\n",
       "      <td>1</td>\n",
       "      <td>1</td>\n",
       "      <td>1</td>\n",
       "      <td>6</td>\n",
       "      <td>0</td>\n",
       "    </tr>\n",
       "    <tr>\n",
       "      <th>adafruit.com</th>\n",
       "      <td>1</td>\n",
       "      <td>1</td>\n",
       "      <td>0</td>\n",
       "      <td>0</td>\n",
       "      <td>0</td>\n",
       "      <td>1</td>\n",
       "      <td>3</td>\n",
       "      <td>3</td>\n",
       "    </tr>\n",
       "    <tr>\n",
       "      <th>adobe.com:aem</th>\n",
       "      <td>1</td>\n",
       "      <td>1</td>\n",
       "      <td>0</td>\n",
       "      <td>1</td>\n",
       "      <td>0</td>\n",
       "      <td>1</td>\n",
       "      <td>4</td>\n",
       "      <td>2</td>\n",
       "    </tr>\n",
       "    <tr>\n",
       "      <th>afterbanks.com</th>\n",
       "      <td>1</td>\n",
       "      <td>1</td>\n",
       "      <td>0</td>\n",
       "      <td>0</td>\n",
       "      <td>0</td>\n",
       "      <td>1</td>\n",
       "      <td>3</td>\n",
       "      <td>3</td>\n",
       "    </tr>\n",
       "  </tbody>\n",
       "</table>\n",
       "</div>"
      ],
      "text/plain": [
       "<div>\n",
       "<style scoped>\n",
       "    .dataframe tbody tr th:only-of-type {\n",
       "        vertical-align: middle;\n",
       "    }\n",
       "\n",
       "    .dataframe tbody tr th {\n",
       "        vertical-align: top;\n",
       "    }\n",
       "\n",
       "    .dataframe thead th {\n",
       "        text-align: right;\n",
       "    }\n",
       "</style>\n",
       "<table border=\"1\" class=\"dataframe\">\n",
       "  <thead>\n",
       "    <tr style=\"text-align: right;\">\n",
       "      <th></th>\n",
       "      <th>title</th>\n",
       "      <th>description</th>\n",
       "      <th>termsOfService</th>\n",
       "      <th>contact</th>\n",
       "      <th>license</th>\n",
       "      <th>version</th>\n",
       "      <th>used keys</th>\n",
       "      <th>missing keys</th>\n",
       "    </tr>\n",
       "  </thead>\n",
       "  <tbody>\n",
       "    <tr>\n",
       "      <th>1forge.com</th>\n",
       "      <td>1</td>\n",
       "      <td>1</td>\n",
       "      <td>0</td>\n",
       "      <td>1</td>\n",
       "      <td>0</td>\n",
       "      <td>1</td>\n",
       "      <td>4</td>\n",
       "      <td>2</td>\n",
       "    </tr>\n",
       "    <tr>\n",
       "      <th>6-dot-authentiqio.appspot.com</th>\n",
       "      <td>1</td>\n",
       "      <td>1</td>\n",
       "      <td>1</td>\n",
       "      <td>1</td>\n",
       "      <td>1</td>\n",
       "      <td>1</td>\n",
       "      <td>6</td>\n",
       "      <td>0</td>\n",
       "    </tr>\n",
       "    <tr>\n",
       "      <th>adafruit.com</th>\n",
       "      <td>1</td>\n",
       "      <td>1</td>\n",
       "      <td>0</td>\n",
       "      <td>0</td>\n",
       "      <td>0</td>\n",
       "      <td>1</td>\n",
       "      <td>3</td>\n",
       "      <td>3</td>\n",
       "    </tr>\n",
       "    <tr>\n",
       "      <th>adobe.com:aem</th>\n",
       "      <td>1</td>\n",
       "      <td>1</td>\n",
       "      <td>0</td>\n",
       "      <td>1</td>\n",
       "      <td>0</td>\n",
       "      <td>1</td>\n",
       "      <td>4</td>\n",
       "      <td>2</td>\n",
       "    </tr>\n",
       "    <tr>\n",
       "      <th>afterbanks.com</th>\n",
       "      <td>1</td>\n",
       "      <td>1</td>\n",
       "      <td>0</td>\n",
       "      <td>0</td>\n",
       "      <td>0</td>\n",
       "      <td>1</td>\n",
       "      <td>3</td>\n",
       "      <td>3</td>\n",
       "    </tr>\n",
       "  </tbody>\n",
       "</table>\n",
       "</div>"
      ]
     },
     "execution_count": 37,
     "metadata": {},
     "output_type": "execute_result"
    }
   ],
   "source": [
    "onehotinfodf.head()"
   ]
  },
  {
   "cell_type": "code",
   "execution_count": 38,
   "metadata": {},
   "outputs": [],
   "source": [
    "onehotinfodf.to_csv('onehotinfocount.csv', encoding='utf8')"
   ]
  },
  {
   "cell_type": "code",
   "execution_count": 40,
   "metadata": {},
   "outputs": [],
   "source": [
    "import matplotlib.pyplot as plt\n",
    "%matplotlib inline"
   ]
  },
  {
   "cell_type": "code",
   "execution_count": 51,
   "metadata": {},
   "outputs": [
    {
     "data": {
      "image/png": "[encoded data removed]",
      "text/plain": [
       "<Figure size 432x288 with 1 Axes>"
      ]
     },
     "metadata": {},
     "output_type": "display_data"
    }
   ],
   "source": [
    "plt.hist(onehotinfodf['used keys'])\n",
    "plt.title(\"# of used keys of info object\")\n",
    "plt.savefig(\"histinfos.pdf\")"
   ]
  },
  {
   "cell_type": "code",
   "execution_count": 52,
   "metadata": {},
   "outputs": [],
   "source": [
    "import seaborn as sns; sns.set()"
   ]
  },
  {
   "cell_type": "code",
   "execution_count": 54,
   "metadata": {},
   "outputs": [
    {
     "data": {
      "text/html": [
       "<div>\n",
       "<style scoped>\n",
       "    .dataframe tbody tr th:only-of-type {\n",
       "        vertical-align: middle;\n",
       "    }\n",
       "\n",
       "    .dataframe tbody tr th {\n",
       "        vertical-align: top;\n",
       "    }\n",
       "\n",
       "    .dataframe thead th {\n",
       "        text-align: right;\n",
       "    }\n",
       "</style>\n",
       "<table border=\"1\" class=\"dataframe\">\n",
       "  <thead>\n",
       "    <tr style=\"text-align: right;\">\n",
       "      <th></th>\n",
       "      <th>title</th>\n",
       "      <th>description</th>\n",
       "      <th>termsOfService</th>\n",
       "      <th>contact</th>\n",
       "      <th>license</th>\n",
       "      <th>version</th>\n",
       "    </tr>\n",
       "  </thead>\n",
       "  <tbody>\n",
       "    <tr>\n",
       "      <th>1forge.com</th>\n",
       "      <td>1</td>\n",
       "      <td>1</td>\n",
       "      <td>0</td>\n",
       "      <td>1</td>\n",
       "      <td>0</td>\n",
       "      <td>1</td>\n",
       "    </tr>\n",
       "    <tr>\n",
       "      <th>6-dot-authentiqio.appspot.com</th>\n",
       "      <td>1</td>\n",
       "      <td>1</td>\n",
       "      <td>1</td>\n",
       "      <td>1</td>\n",
       "      <td>1</td>\n",
       "      <td>1</td>\n",
       "    </tr>\n",
       "    <tr>\n",
       "      <th>adafruit.com</th>\n",
       "      <td>1</td>\n",
       "      <td>1</td>\n",
       "      <td>0</td>\n",
       "      <td>0</td>\n",
       "      <td>0</td>\n",
       "      <td>1</td>\n",
       "    </tr>\n",
       "    <tr>\n",
       "      <th>adobe.com:aem</th>\n",
       "      <td>1</td>\n",
       "      <td>1</td>\n",
       "      <td>0</td>\n",
       "      <td>1</td>\n",
       "      <td>0</td>\n",
       "      <td>1</td>\n",
       "    </tr>\n",
       "    <tr>\n",
       "      <th>afterbanks.com</th>\n",
       "      <td>1</td>\n",
       "      <td>1</td>\n",
       "      <td>0</td>\n",
       "      <td>0</td>\n",
       "      <td>0</td>\n",
       "      <td>1</td>\n",
       "    </tr>\n",
       "  </tbody>\n",
       "</table>\n",
       "</div>"
      ],
      "text/plain": [
       "<div>\n",
       "<style scoped>\n",
       "    .dataframe tbody tr th:only-of-type {\n",
       "        vertical-align: middle;\n",
       "    }\n",
       "\n",
       "    .dataframe tbody tr th {\n",
       "        vertical-align: top;\n",
       "    }\n",
       "\n",
       "    .dataframe thead th {\n",
       "        text-align: right;\n",
       "    }\n",
       "</style>\n",
       "<table border=\"1\" class=\"dataframe\">\n",
       "  <thead>\n",
       "    <tr style=\"text-align: right;\">\n",
       "      <th></th>\n",
       "      <th>title</th>\n",
       "      <th>description</th>\n",
       "      <th>termsOfService</th>\n",
       "      <th>contact</th>\n",
       "      <th>license</th>\n",
       "      <th>version</th>\n",
       "    </tr>\n",
       "  </thead>\n",
       "  <tbody>\n",
       "    <tr>\n",
       "      <th>1forge.com</th>\n",
       "      <td>1</td>\n",
       "      <td>1</td>\n",
       "      <td>0</td>\n",
       "      <td>1</td>\n",
       "      <td>0</td>\n",
       "      <td>1</td>\n",
       "    </tr>\n",
       "    <tr>\n",
       "      <th>6-dot-authentiqio.appspot.com</th>\n",
       "      <td>1</td>\n",
       "      <td>1</td>\n",
       "      <td>1</td>\n",
       "      <td>1</td>\n",
       "      <td>1</td>\n",
       "      <td>1</td>\n",
       "    </tr>\n",
       "    <tr>\n",
       "      <th>adafruit.com</th>\n",
       "      <td>1</td>\n",
       "      <td>1</td>\n",
       "      <td>0</td>\n",
       "      <td>0</td>\n",
       "      <td>0</td>\n",
       "      <td>1</td>\n",
       "    </tr>\n",
       "    <tr>\n",
       "      <th>adobe.com:aem</th>\n",
       "      <td>1</td>\n",
       "      <td>1</td>\n",
       "      <td>0</td>\n",
       "      <td>1</td>\n",
       "      <td>0</td>\n",
       "      <td>1</td>\n",
       "    </tr>\n",
       "    <tr>\n",
       "      <th>afterbanks.com</th>\n",
       "      <td>1</td>\n",
       "      <td>1</td>\n",
       "      <td>0</td>\n",
       "      <td>0</td>\n",
       "      <td>0</td>\n",
       "      <td>1</td>\n",
       "    </tr>\n",
       "  </tbody>\n",
       "</table>\n",
       "</div>"
      ]
     },
     "execution_count": 54,
     "metadata": {},
     "output_type": "execute_result"
    }
   ],
   "source": [
    "heatdf = onehotinfodf[info_complete]\n",
    "heatdf.head()"
   ]
  },
  {
   "cell_type": "code",
   "execution_count": 61,
   "metadata": {},
   "outputs": [
    {
     "data": {
      "image/png": "[encoded data removed]",
      "text/plain": [
       "<Figure size 432x288 with 2 Axes>"
      ]
     },
     "metadata": {},
     "output_type": "display_data"
    }
   ],
   "source": [
    "plothm = sns.heatmap(heatdf, cmap=\"YlGnBu\")\n",
    "plothm.get_figure().savefig(\"heatmapinfo.png\")"
   ]
  },
  {
   "cell_type": "code",
   "execution_count": 83,
   "metadata": {
    "collapsed": true
   },
   "outputs": [
    {
     "name": "stdout",
     "output_type": "stream",
     "text": [
      "{'/key': {'delete': {'description': 'Revoke an Authentiq ID using email & phone.\\n\\nIf called with `email` and `phone` only, a verification code \\nwill be sent by email. Do a second call adding `code` to \\ncomplete the revocation.\\n', 'operationId': 'key_revoke_nosecret', 'parameters': [{'description': 'primary email associated to Key (ID)', 'in': 'query', 'name': 'email', 'required': True, 'type': 'string'}, {'description': 'primary phone number, international representation', 'in': 'query', 'name': 'phone', 'required': True, 'type': 'string'}, {'description': 'verification code sent by email', 'in': 'query', 'name': 'code', 'required': False, 'type': 'string'}], 'produces': ['application/json'], 'responses': {'200': {'description': 'Successfully deleted', 'schema': {'properties': {'status': {'description': 'pending or done', 'type': 'string'}}, 'type': 'object'}}, '401': {'description': 'Authentication error `auth-error`', 'schema': {'$ref': '#/definitions/Error'}}, '404': {'description': 'Unknown key `unknown-key`', 'schema': {'$ref': '#/definitions/Error'}}, '409': {'description': 'Confirm with code sent `confirm-first`', 'schema': {'$ref': '#/definitions/Error'}}, 'default': {'$ref': '#/responses/ErrorResponse'}}, 'tags': ['key', 'delete']}, 'post': {'consumes': ['application/jwt'], 'description': 'Register a new ID `JWT(sub, devtoken)`\\n\\nv5: `JWT(sub, pk, devtoken, ...)`\\n\\nSee: https://github.com/skion/authentiq/wiki/JWT-Examples\\n', 'operationId': 'key_register', 'parameters': [{'$ref': '#/parameters/AuthentiqID'}], 'produces': ['application/json'], 'responses': {'201': {'description': 'Successfully registered', 'schema': {'properties': {'secret': {'description': 'revoke key', 'type': 'string'}, 'status': {'description': 'registered', 'type': 'string'}}, 'type': 'object'}}, '409': {'description': 'Key already registered `duplicate-key`', 'schema': {'$ref': '#/definitions/Error'}}, 'default': {'$ref': '#/responses/ErrorResponse'}}, 'tags': ['key', 'post']}}, '/key/{PK}': {'delete': {'description': 'Revoke an Identity (Key) with a revocation secret', 'operationId': 'key_revoke', 'parameters': [{'$ref': '#/parameters/PK'}, {'description': 'revokation secret', 'in': 'query', 'name': 'secret', 'required': True, 'type': 'string'}], 'produces': ['application/json'], 'responses': {'200': {'description': 'Successful response', 'schema': {'properties': {'status': {'description': 'done', 'type': 'string'}}, 'type': 'object'}}, '401': {'description': 'Key not found / wrong code `auth-error`', 'schema': {'$ref': '#/definitions/Error'}}, '404': {'description': 'Unknown key `unknown-key`', 'schema': {'$ref': '#/definitions/Error'}}, 'default': {'$ref': '#/responses/ErrorResponse'}}, 'tags': ['key', 'delete']}, 'get': {'description': 'Get public details of an Authentiq ID.\\n', 'parameters': [{'$ref': '#/parameters/PK'}], 'produces': ['application/json'], 'responses': {'200': {'description': 'Successfully retrieved', 'schema': {'properties': {'since': {'format': 'date-time', 'type': 'string'}, 'status': {'type': 'string'}, 'sub': {'description': 'base64safe encoded public signing key', 'type': 'string'}}, 'title': 'JWT', 'type': 'object'}}, '404': {'description': 'Unknown key `unknown-key`', 'schema': {'$ref': '#/definitions/Error'}}, '410': {'description': 'Key is revoked (gone). `revoked-key`', 'schema': {'$ref': '#/definitions/Error'}}, 'default': {'$ref': '#/responses/ErrorResponse'}}, 'tags': ['key', 'get']}, 'head': {'description': 'HEAD info on Authentiq ID\\n', 'parameters': [{'$ref': '#/parameters/PK'}], 'responses': {'200': {'description': 'Key exists'}, '404': {'description': 'Unknown key `unknown-key`', 'schema': {'$ref': '#/definitions/Error'}}, '410': {'description': 'Key is revoked `revoked-key`', 'schema': {'$ref': '#/definitions/Error'}}, 'default': {'$ref': '#/responses/ErrorResponse'}}, 'tags': ['key', 'head']}, 'post': {'consumes': ['application/jwt'], 'description': 'update properties of an Authentiq ID.\\n(not operational in v4; use PUT for now)\\n\\nv5: POST issuer-signed email & phone scopes in\\na self-signed JWT\\n\\nSee: https://github.com/skion/authentiq/wiki/JWT-Examples\\n', 'operationId': 'key_update', 'parameters': [{'$ref': '#/parameters/PK'}, {'$ref': '#/parameters/AuthentiqID'}], 'produces': ['application/json'], 'responses': {'200': {'description': 'Successfully updated', 'schema': {'properties': {'status': {'description': 'confirmed', 'type': 'string'}}, 'type': 'object'}}, '404': {'description': 'Unknown key `unknown-key`', 'schema': {'$ref': '#/definitions/Error'}}, 'default': {'$ref': '#/responses/ErrorResponse'}}, 'tags': ['key', 'post']}, 'put': {'consumes': ['application/jwt'], 'description': 'Update Authentiq ID by replacing the object.\\n\\nv4: `JWT(sub,email,phone)` to bind email/phone hash; \\n\\nv5: POST issuer-signed email & phone scopes\\nand PUT to update registration `JWT(sub, pk, devtoken, ...)`\\n\\nSee: https://github.com/skion/authentiq/wiki/JWT-Examples\\n', 'operationId': 'key_bind', 'parameters': [{'$ref': '#/parameters/PK'}, {'$ref': '#/parameters/AuthentiqID'}], 'produces': ['application/json'], 'responses': {'200': {'description': 'Successfully updated', 'schema': {'properties': {'status': {'description': 'confirmed', 'type': 'string'}}, 'type': 'object'}}, '404': {'description': 'Unknown key `unknown-key`', 'schema': {'$ref': '#/definitions/Error'}}, '409': {'description': 'Already bound to another key `duplicate-hash`', 'schema': {'$ref': '#/definitions/Error'}}, 'default': {'$ref': '#/responses/ErrorResponse'}}, 'tags': ['key', 'put']}}, '/login': {'post': {'consumes': ['application/jwt'], 'description': 'push sign-in request\\nSee: https://github.com/skion/authentiq/wiki/JWT-Examples\\n', 'operationId': 'push_login_request', 'parameters': [{'$ref': '#/parameters/PushToken'}, {'description': 'URI App will connect to', 'in': 'query', 'name': 'callback', 'required': True, 'type': 'string'}], 'produces': ['application/json'], 'responses': {'200': {'description': 'Successful response', 'schema': {'properties': {'status': {'description': 'sent', 'type': 'string'}}, 'type': 'object'}}, '401': {'description': 'Unauthorized for this callback audience `aud-error` or JWT should be self-signed `auth-error`', 'schema': {'$ref': '#/definitions/Error'}}, 'default': {'$ref': '#/responses/ErrorResponse'}}, 'tags': ['login', 'post']}}, '/scope': {'post': {'consumes': ['application/jwt'], 'description': 'scope verification request\\nSee: https://github.com/skion/authentiq/wiki/JWT-Examples\\n', 'operationId': 'sign_request', 'parameters': [{'$ref': '#/parameters/Scope'}, {'description': 'test only mode, using test issuer', 'in': 'query', 'name': 'test', 'required': False, 'type': 'integer'}], 'produces': ['application/json'], 'responses': {'201': {'description': 'Successful response', 'schema': {'properties': {'job': {'description': '20-character ID', 'type': 'string'}, 'status': {'description': 'waiting', 'type': 'string'}}, 'type': 'object'}}, '429': {'description': 'Too Many Requests on same address / number `rate-limit`', 'schema': {'$ref': '#/definitions/Error'}}, 'default': {'$ref': '#/responses/ErrorResponse'}}, 'tags': ['scope', 'post']}}, '/scope/{job}': {'delete': {'description': 'delete a verification job', 'operationId': 'sign_delete', 'parameters': [{'$ref': '#/parameters/JobID'}], 'produces': ['application/json'], 'responses': {'200': {'description': 'Successfully deleted', 'schema': {'properties': {'status': {'description': 'done', 'type': 'string'}}, 'type': 'object'}}, '404': {'description': 'Job not found `unknown-job`', 'schema': {'$ref': '#/definitions/Error'}}, 'default': {'$ref': '#/responses/ErrorResponse'}}, 'tags': ['scope', 'delete']}, 'get': {'description': 'get the status / current content of a verification job', 'operationId': 'sign_retrieve', 'parameters': [{'$ref': '#/parameters/JobID'}], 'produces': ['application/json', 'application/jwt'], 'responses': {'200': {'description': 'Successful response (JWT)', 'schema': {'properties': {'exp': {'type': 'integer'}, 'field': {'type': 'string'}, 'sub': {'description': 'base64safe encoded public signing key', 'type': 'string'}}, 'title': 'JWT', 'type': 'object'}}, '204': {'description': 'Confirmed, waiting for signing'}, '404': {'description': 'Job not found `unknown-job`', 'schema': {'$ref': '#/definitions/Error'}}, 'default': {'$ref': '#/responses/ErrorResponse'}}, 'tags': ['scope', 'get']}, 'head': {'description': 'HEAD to get the status of a verification job', 'operationId': 'sign_retrieve_head', 'parameters': [{'$ref': '#/parameters/JobID'}], 'produces': ['application/json'], 'responses': {'200': {'description': 'Confirmed and signed'}, '204': {'description': 'Confirmed, waiting for signing'}, '404': {'description': 'Job not found `unknown-job`', 'schema': {'$ref': '#/definitions/Error'}}, 'default': {'$ref': '#/responses/ErrorResponse'}}, 'tags': ['scope', 'head']}, 'post': {'consumes': ['application/json'], 'description': 'this is a scope confirmation', 'operationId': 'sign_confirm', 'parameters': [{'$ref': '#/parameters/JobID'}], 'produces': ['application/json'], 'responses': {'202': {'description': 'Successfully confirmed', 'schema': {'properties': {'status': {'description': 'confirmed', 'type': 'string'}}, 'type': 'object'}}, '401': {'description': 'Confirmation error `auth-error`', 'schema': {'$ref': '#/definitions/Error'}}, '404': {'description': 'Job not found `unknown-job`', 'schema': {'$ref': '#/definitions/Error'}}, '405': {'description': 'JWT POSTed to scope `not-supported`', 'schema': {'$ref': '#/definitions/Error'}}, 'default': {'$ref': '#/responses/ErrorResponse'}}, 'tags': ['scope', 'post']}, 'put': {'consumes': ['application/jwt'], 'description': 'authority updates a JWT with its signature\\nSee: https://github.com/skion/authentiq/wiki/JWT-Examples\\n', 'operationId': 'sign_update', 'parameters': [{'$ref': '#/parameters/JobID'}], 'produces': ['application/jwt'], 'responses': {'200': {'description': 'Successfully updated', 'schema': {'properties': {'jwt': {'description': 'result is JWT or JSON??', 'type': 'string'}, 'status': {'description': 'ready', 'type': 'string'}}, 'type': 'object'}}, '404': {'description': 'Job not found `unknown-job`', 'schema': {'$ref': '#/definitions/Error'}}, '409': {'description': 'Job not confirmed yet `confirm-first`', 'schema': {'$ref': '#/definitions/Error'}}, 'default': {'$ref': '#/responses/ErrorResponse'}}, 'tags': ['scope', 'put']}}}\n"
     ]
    }
   ],
   "source": [
    "path = specjsons[keys[1]]['paths']\n",
    "print(path)"
   ]
  },
  {
   "cell_type": "code",
   "execution_count": 84,
   "metadata": {},
   "outputs": [
    {
     "name": "stdout",
     "output_type": "stream",
     "text": [
      "{'/key': {'delete': {'description': 'Revoke an Authentiq ID using email & phone.\\n\\nIf called with `email` and `phone` only, a verification code \\nwill be sent by email. Do a second call adding `code` to \\ncomplete the revocation.\\n', 'operationId': 'key_revoke_nosecret', 'parameters': [{'description': 'primary email associated to Key (ID)', 'in': 'query', 'name': 'email', 'required': True, 'type': 'string'}, {'description': 'primary phone number, international representation', 'in': 'query', 'name': 'phone', 'required': True, 'type': 'string'}, {'description': 'verification code sent by email', 'in': 'query', 'name': 'code', 'required': False, 'type': 'string'}], 'produces': ['application/json'], 'responses': {'200': {'description': 'Successfully deleted', 'schema': {'properties': {'status': {'description': 'pending or done', 'type': 'string'}}, 'type': 'object'}}, '401': {'description': 'Authentication error `auth-error`', 'schema': {'$ref': '#/definitions/Error'}}, '404': {'description': 'Unknown key `unknown-key`', 'schema': {'$ref': '#/definitions/Error'}}, '409': {'description': 'Confirm with code sent `confirm-first`', 'schema': {'$ref': '#/definitions/Error'}}, 'default': {'$ref': '#/responses/ErrorResponse'}}, 'tags': ['key', 'delete']}, 'post': {'consumes': ['application/jwt'], 'description': 'Register a new ID `JWT(sub, devtoken)`\\n\\nv5: `JWT(sub, pk, devtoken, ...)`\\n\\nSee: https://github.com/skion/authentiq/wiki/JWT-Examples\\n', 'operationId': 'key_register', 'parameters': [{'$ref': '#/parameters/AuthentiqID'}], 'produces': ['application/json'], 'responses': {'201': {'description': 'Successfully registered', 'schema': {'properties': {'secret': {'description': 'revoke key', 'type': 'string'}, 'status': {'description': 'registered', 'type': 'string'}}, 'type': 'object'}}, '409': {'description': 'Key already registered `duplicate-key`', 'schema': {'$ref': '#/definitions/Error'}}, 'default': {'$ref': '#/responses/ErrorResponse'}}, 'tags': ['key', 'post']}}, '/key/{PK}': {'delete': {'description': 'Revoke an Identity (Key) with a revocation secret', 'operationId': 'key_revoke', 'parameters': [{'$ref': '#/parameters/PK'}, {'description': 'revokation secret', 'in': 'query', 'name': 'secret', 'required': True, 'type': 'string'}], 'produces': ['application/json'], 'responses': {'200': {'description': 'Successful response', 'schema': {'properties': {'status': {'description': 'done', 'type': 'string'}}, 'type': 'object'}}, '401': {'description': 'Key not found / wrong code `auth-error`', 'schema': {'$ref': '#/definitions/Error'}}, '404': {'description': 'Unknown key `unknown-key`', 'schema': {'$ref': '#/definitions/Error'}}, 'default': {'$ref': '#/responses/ErrorResponse'}}, 'tags': ['key', 'delete']}, 'get': {'description': 'Get public details of an Authentiq ID.\\n', 'parameters': [{'$ref': '#/parameters/PK'}], 'produces': ['application/json'], 'responses': {'200': {'description': 'Successfully retrieved', 'schema': {'properties': {'since': {'format': 'date-time', 'type': 'string'}, 'status': {'type': 'string'}, 'sub': {'description': 'base64safe encoded public signing key', 'type': 'string'}}, 'title': 'JWT', 'type': 'object'}}, '404': {'description': 'Unknown key `unknown-key`', 'schema': {'$ref': '#/definitions/Error'}}, '410': {'description': 'Key is revoked (gone). `revoked-key`', 'schema': {'$ref': '#/definitions/Error'}}, 'default': {'$ref': '#/responses/ErrorResponse'}}, 'tags': ['key', 'get']}, 'head': {'description': 'HEAD info on Authentiq ID\\n', 'parameters': [{'$ref': '#/parameters/PK'}], 'responses': {'200': {'description': 'Key exists'}, '404': {'description': 'Unknown key `unknown-key`', 'schema': {'$ref': '#/definitions/Error'}}, '410': {'description': 'Key is revoked `revoked-key`', 'schema': {'$ref': '#/definitions/Error'}}, 'default': {'$ref': '#/responses/ErrorResponse'}}, 'tags': ['key', 'head']}, 'post': {'consumes': ['application/jwt'], 'description': 'update properties of an Authentiq ID.\\n(not operational in v4; use PUT for now)\\n\\nv5: POST issuer-signed email & phone scopes in\\na self-signed JWT\\n\\nSee: https://github.com/skion/authentiq/wiki/JWT-Examples\\n', 'operationId': 'key_update', 'parameters': [{'$ref': '#/parameters/PK'}, {'$ref': '#/parameters/AuthentiqID'}], 'produces': ['application/json'], 'responses': {'200': {'description': 'Successfully updated', 'schema': {'properties': {'status': {'description': 'confirmed', 'type': 'string'}}, 'type': 'object'}}, '404': {'description': 'Unknown key `unknown-key`', 'schema': {'$ref': '#/definitions/Error'}}, 'default': {'$ref': '#/responses/ErrorResponse'}}, 'tags': ['key', 'post']}, 'put': {'consumes': ['application/jwt'], 'description': 'Update Authentiq ID by replacing the object.\\n\\nv4: `JWT(sub,email,phone)` to bind email/phone hash; \\n\\nv5: POST issuer-signed email & phone scopes\\nand PUT to update registration `JWT(sub, pk, devtoken, ...)`\\n\\nSee: https://github.com/skion/authentiq/wiki/JWT-Examples\\n', 'operationId': 'key_bind', 'parameters': [{'$ref': '#/parameters/PK'}, {'$ref': '#/parameters/AuthentiqID'}], 'produces': ['application/json'], 'responses': {'200': {'description': 'Successfully updated', 'schema': {'properties': {'status': {'description': 'confirmed', 'type': 'string'}}, 'type': 'object'}}, '404': {'description': 'Unknown key `unknown-key`', 'schema': {'$ref': '#/definitions/Error'}}, '409': {'description': 'Already bound to another key `duplicate-hash`', 'schema': {'$ref': '#/definitions/Error'}}, 'default': {'$ref': '#/responses/ErrorResponse'}}, 'tags': ['key', 'put']}}, '/login': {'post': {'consumes': ['application/jwt'], 'description': 'push sign-in request\\nSee: https://github.com/skion/authentiq/wiki/JWT-Examples\\n', 'operationId': 'push_login_request', 'parameters': [{'$ref': '#/parameters/PushToken'}, {'description': 'URI App will connect to', 'in': 'query', 'name': 'callback', 'required': True, 'type': 'string'}], 'produces': ['application/json'], 'responses': {'200': {'description': 'Successful response', 'schema': {'properties': {'status': {'description': 'sent', 'type': 'string'}}, 'type': 'object'}}, '401': {'description': 'Unauthorized for this callback audience `aud-error` or JWT should be self-signed `auth-error`', 'schema': {'$ref': '#/definitions/Error'}}, 'default': {'$ref': '#/responses/ErrorResponse'}}, 'tags': ['login', 'post']}}, '/scope': {'post': {'consumes': ['application/jwt'], 'description': 'scope verification request\\nSee: https://github.com/skion/authentiq/wiki/JWT-Examples\\n', 'operationId': 'sign_request', 'parameters': [{'$ref': '#/parameters/Scope'}, {'description': 'test only mode, using test issuer', 'in': 'query', 'name': 'test', 'required': False, 'type': 'integer'}], 'produces': ['application/json'], 'responses': {'201': {'description': 'Successful response', 'schema': {'properties': {'job': {'description': '20-character ID', 'type': 'string'}, 'status': {'description': 'waiting', 'type': 'string'}}, 'type': 'object'}}, '429': {'description': 'Too Many Requests on same address / number `rate-limit`', 'schema': {'$ref': '#/definitions/Error'}}, 'default': {'$ref': '#/responses/ErrorResponse'}}, 'tags': ['scope', 'post']}}, '/scope/{job}': {'delete': {'description': 'delete a verification job', 'operationId': 'sign_delete', 'parameters': [{'$ref': '#/parameters/JobID'}], 'produces': ['application/json'], 'responses': {'200': {'description': 'Successfully deleted', 'schema': {'properties': {'status': {'description': 'done', 'type': 'string'}}, 'type': 'object'}}, '404': {'description': 'Job not found `unknown-job`', 'schema': {'$ref': '#/definitions/Error'}}, 'default': {'$ref': '#/responses/ErrorResponse'}}, 'tags': ['scope', 'delete']}, 'get': {'description': 'get the status / current content of a verification job', 'operationId': 'sign_retrieve', 'parameters': [{'$ref': '#/parameters/JobID'}], 'produces': ['application/json', 'application/jwt'], 'responses': {'200': {'description': 'Successful response (JWT)', 'schema': {'properties': {'exp': {'type': 'integer'}, 'field': {'type': 'string'}, 'sub': {'description': 'base64safe encoded public signing key', 'type': 'string'}}, 'title': 'JWT', 'type': 'object'}}, '204': {'description': 'Confirmed, waiting for signing'}, '404': {'description': 'Job not found `unknown-job`', 'schema': {'$ref': '#/definitions/Error'}}, 'default': {'$ref': '#/responses/ErrorResponse'}}, 'tags': ['scope', 'get']}, 'head': {'description': 'HEAD to get the status of a verification job', 'operationId': 'sign_retrieve_head', 'parameters': [{'$ref': '#/parameters/JobID'}], 'produces': ['application/json'], 'responses': {'200': {'description': 'Confirmed and signed'}, '204': {'description': 'Confirmed, waiting for signing'}, '404': {'description': 'Job not found `unknown-job`', 'schema': {'$ref': '#/definitions/Error'}}, 'default': {'$ref': '#/responses/ErrorResponse'}}, 'tags': ['scope', 'head']}, 'post': {'consumes': ['application/json'], 'description': 'this is a scope confirmation', 'operationId': 'sign_confirm', 'parameters': [{'$ref': '#/parameters/JobID'}], 'produces': ['application/json'], 'responses': {'202': {'description': 'Successfully confirmed', 'schema': {'properties': {'status': {'description': 'confirmed', 'type': 'string'}}, 'type': 'object'}}, '401': {'description': 'Confirmation error `auth-error`', 'schema': {'$ref': '#/definitions/Error'}}, '404': {'description': 'Job not found `unknown-job`', 'schema': {'$ref': '#/definitions/Error'}}, '405': {'description': 'JWT POSTed to scope `not-supported`', 'schema': {'$ref': '#/definitions/Error'}}, 'default': {'$ref': '#/responses/ErrorResponse'}}, 'tags': ['scope', 'post']}, 'put': {'consumes': ['application/jwt'], 'description': 'authority updates a JWT with its signature\\nSee: https://github.com/skion/authentiq/wiki/JWT-Examples\\n', 'operationId': 'sign_update', 'parameters': [{'$ref': '#/parameters/JobID'}], 'produces': ['application/jwt'], 'responses': {'200': {'description': 'Successfully updated', 'schema': {'properties': {'jwt': {'description': 'result is JWT or JSON??', 'type': 'string'}, 'status': {'description': 'ready', 'type': 'string'}}, 'type': 'object'}}, '404': {'description': 'Job not found `unknown-job`', 'schema': {'$ref': '#/definitions/Error'}}, '409': {'description': 'Job not confirmed yet `confirm-first`', 'schema': {'$ref': '#/definitions/Error'}}, 'default': {'$ref': '#/responses/ErrorResponse'}}, 'tags': ['scope', 'put']}}}\n"
     ]
    }
   ],
   "source": [
    "pathkeys = list(path.keys())\n",
    "print(path)"
   ]
  },
  {
   "cell_type": "code",
   "execution_count": 85,
   "metadata": {},
   "outputs": [
    {
     "name": "stdout",
     "output_type": "stream",
     "text": [
      "/key\n['delete', 'post']\ndict_keys(['description', 'operationId', 'parameters', 'produces', 'responses', 'tags'])\ndict_keys(['consumes', 'description', 'operationId', 'parameters', 'produces', 'responses', 'tags'])\n/key/{PK}\n['delete', 'get', 'head', 'post', 'put']\ndict_keys(['description', 'operationId', 'parameters', 'produces', 'responses', 'tags'])\ndict_keys(['description', 'parameters', 'produces', 'responses', 'tags'])\ndict_keys(['description', 'parameters', 'responses', 'tags'])\ndict_keys(['consumes', 'description', 'operationId', 'parameters', 'produces', 'responses', 'tags'])\ndict_keys(['consumes', 'description', 'operationId', 'parameters', 'produces', 'responses', 'tags'])\n/login\n['post']\ndict_keys(['consumes', 'description', 'operationId', 'parameters', 'produces', 'responses', 'tags'])\n/scope\n['post']\ndict_keys(['consumes', 'description', 'operationId', 'parameters', 'produces', 'responses', 'tags'])\n/scope/{job}\n['delete', 'get', 'head', 'post', 'put']\ndict_keys(['description', 'operationId', 'parameters', 'produces', 'responses', 'tags'])\ndict_keys(['description', 'operationId', 'parameters', 'produces', 'responses', 'tags'])\ndict_keys(['description', 'operationId', 'parameters', 'produces', 'responses', 'tags'])\ndict_keys(['consumes', 'description', 'operationId', 'parameters', 'produces', 'responses', 'tags'])\ndict_keys(['consumes', 'description', 'operationId', 'parameters', 'produces', 'responses', 'tags'])\n"
     ]
    }
   ],
   "source": [
    "for pa in path:\n",
    "    print(pa)\n",
    "    pakeys = list(path[pa].keys())\n",
    "    print(pakeys)\n",
    "    for key in pakeys:\n",
    "        print(path[pa][key].keys())\n",
    "    \n",
    "       "
   ]
  },
  {
   "cell_type": "markdown",
   "metadata": {},
   "source": [
    "# idea\n",
    "lets create a df for each spec file with the onehote of its paths. Since this will have variable sizes it is hard to add this info to the general structure of the api"
   ]
  },
  {
   "cell_type": "code",
   "execution_count": 86,
   "metadata": {
    "collapsed": true
   },
   "outputs": [
    {
     "name": "stdout",
     "output_type": "stream",
     "text": [
      "dict_keys(['1forge.com', '6-dot-authentiqio.appspot.com', 'adafruit.com', 'adobe.com:aem', 'afterbanks.com', 'agco-ats.com', 'airport-web.appspot.com', 'amadeus.com', 'amazonaws.com:AWSMigrationHub', 'amazonaws.com:acm', 'amazonaws.com:alexaforbusiness', 'amazonaws.com:apigateway', 'amazonaws.com:application-autoscaling', 'amazonaws.com:appstream', 'amazonaws.com:appsync', 'amazonaws.com:athena', 'amazonaws.com:autoscaling', 'amazonaws.com:autoscaling-plans', 'amazonaws.com:batch', 'amazonaws.com:budgets', 'amazonaws.com:ce', 'amazonaws.com:cloud9', 'amazonaws.com:clouddirectory', 'amazonaws.com:cloudformation', 'amazonaws.com:cloudfront', 'amazonaws.com:cloudhsm', 'amazonaws.com:cloudhsmv2', 'amazonaws.com:cloudsearch', 'amazonaws.com:cloudsearchdomain', 'amazonaws.com:cloudtrail', 'amazonaws.com:codebuild', 'amazonaws.com:codecommit', 'amazonaws.com:codedeploy', 'amazonaws.com:codepipeline', 'amazonaws.com:codestar', 'amazonaws.com:cognito-identity', 'amazonaws.com:cognito-idp', 'amazonaws.com:cognito-sync', 'amazonaws.com:comprehend', 'amazonaws.com:config', 'amazonaws.com:cur', 'amazonaws.com:datapipeline', 'amazonaws.com:dax', 'amazonaws.com:devicefarm', 'amazonaws.com:directconnect', 'amazonaws.com:discovery', 'amazonaws.com:dms', 'amazonaws.com:ds', 'amazonaws.com:dynamodb', 'amazonaws.com:ec2', 'amazonaws.com:ecr', 'amazonaws.com:ecs', 'amazonaws.com:elasticache', 'amazonaws.com:elasticbeanstalk', 'amazonaws.com:elasticfilesystem', 'amazonaws.com:elasticloadbalancing', 'amazonaws.com:elasticloadbalancingv2', 'amazonaws.com:elasticmapreduce', 'amazonaws.com:elastictranscoder', 'amazonaws.com:email', 'amazonaws.com:entitlement.marketplace', 'amazonaws.com:es', 'amazonaws.com:events', 'amazonaws.com:firehose', 'amazonaws.com:gamelift', 'amazonaws.com:glacier', 'amazonaws.com:glue', 'amazonaws.com:greengrass', 'amazonaws.com:guardduty', 'amazonaws.com:health', 'amazonaws.com:iam', 'amazonaws.com:importexport', 'amazonaws.com:inspector', 'amazonaws.com:iot', 'amazonaws.com:iot-data', 'amazonaws.com:iot-jobs-data', 'amazonaws.com:kinesis', 'amazonaws.com:kinesis-video-archived-media', 'amazonaws.com:kinesis-video-media', 'amazonaws.com:kinesisanalytics', 'amazonaws.com:kinesisvideo', 'amazonaws.com:kms', 'amazonaws.com:lambda', 'amazonaws.com:lex-models', 'amazonaws.com:lightsail', 'amazonaws.com:logs', 'amazonaws.com:machinelearning', 'amazonaws.com:marketplacecommerceanalytics', 'amazonaws.com:mediaconvert', 'amazonaws.com:medialive', 'amazonaws.com:mediapackage', 'amazonaws.com:mediastore', 'amazonaws.com:mediastore-data', 'amazonaws.com:meteringmarketplace', 'amazonaws.com:mobile', 'amazonaws.com:mobileanalytics', 'amazonaws.com:monitoring', 'amazonaws.com:mq', 'amazonaws.com:mturk-requester', 'amazonaws.com:opsworks', 'amazonaws.com:opsworkscm', 'amazonaws.com:organizations', 'amazonaws.com:pinpoint', 'amazonaws.com:polly', 'amazonaws.com:pricing', 'amazonaws.com:rds', 'amazonaws.com:redshift', 'amazonaws.com:rekognition', 'amazonaws.com:resource-groups', 'amazonaws.com:resourcegroupstaggingapi', 'amazonaws.com:route53', 'amazonaws.com:route53domains', 'amazonaws.com:runtime.lex', 'amazonaws.com:runtime.sagemaker', 'amazonaws.com:s3', 'amazonaws.com:sagemaker', 'amazonaws.com:sdb', 'amazonaws.com:serverlessrepo', 'amazonaws.com:servicecatalog', 'amazonaws.com:servicediscovery', 'amazonaws.com:shield', 'amazonaws.com:sms', 'amazonaws.com:snowball', 'amazonaws.com:sns', 'amazonaws.com:sqs', 'amazonaws.com:ssm', 'amazonaws.com:states', 'amazonaws.com:storagegateway', 'amazonaws.com:streams.dynamodb', 'amazonaws.com:sts', 'amazonaws.com:support', 'amazonaws.com:swf', 'amazonaws.com:transcribe', 'amazonaws.com:translate', 'amazonaws.com:waf', 'amazonaws.com:waf-regional', 'amazonaws.com:workdocs', 'amazonaws.com:workmail', 'amazonaws.com:workspaces', 'amazonaws.com:xray', 'anchore.io', 'apache.org:qakka', 'apacta.com', 'api2cart.com', 'apigee.net:marketcheck-cars', 'apimatic.io', 'apis.guru', 'apitore.com:2chMatomeFeedsApis', 'apitore.com:certificateFeedsApis', 'apitore.com:cosineSimilarity', 'apitore.com:designFeedsApis', 'apitore.com:documentFrequencyApis', 'apitore.com:gameFeedsApis', 'apitore.com:japaneseWordnetApis', 'apitore.com:kmeansClusteringByWord2vec', 'apitore.com:kuromojiApis', 'apitore.com:languageDetectionApis', 'apitore.com:newsFeedsApis', 'apitore.com:pioneerBlogFeedsApis', 'apitore.com:rss2jsonApis', 'apitore.com:sentenceSeparatorApis', 'apitore.com:sentenceSimilarity', 'apitore.com:sentencepieceApis_tweet_', 'apitore.com:sentencepieceApis_wikipedia_', 'apitore.com:sentimentApis', 'apitore.com:synonymApis', 'apitore.com:techFeedsApis', 'apitore.com:text2labelByTfidfApis', 'apitore.com:text2labelByWordVectorApis', 'apitore.com:travelFeedsApis', 'apitore.com:tweetSummarizationApis', 'apitore.com:twitterApis', 'apitore.com:twitterApisWithSentimentByApitoreSentimentApi', 'apitore.com:twitterApisWithWord2vecQueryExpansion', 'apitore.com:twitterApisWithWord2vecQueryExpansion,AndAddSentimentByApitoreSentimentApi', 'apitore.com:url2hrefApis', 'apitore.com:url2htmlApis', 'apitore.com:url2labelByTfidfApis', 'apitore.com:url2labelByWordVectorApis', 'apitore.com:url2srcApis', 'apitore.com:url2textApis', 'apitore.com:word2vecApis', 'apitore.com:wordnetApis', 'apitore.com:wordnetHypernymApis', 'apitore.com:wordnetHyponymApis', 'apitore.com:wordnetSimilarityApis', 'apitore.com:wordnetSynonymApis', 'apitore.com:wordnetTranslationApis', 'apitore.com:wordsToVectorsApis', 'applicationinsights.io:applicationinsights-AppInsights', 'appveyor.com', 'archive.org:search', 'archive.org:wayback', 'art19.com', 'ato.gov.au', 'aucklandmuseum.com', 'authentiq.io', 'avaza.com', 'aviationdata.systems', 'azure.com:advisor', 'azure.com:analysisservices', 'azure.com:apimanagement', 'azure.com:apimanagement-apimapis', 'azure.com:apimanagement-apimauthorizationservers', 'azure.com:apimanagement-apimbackends', 'azure.com:apimanagement-apimcertificates', 'azure.com:apimanagement-apimdeployment', 'azure.com:apimanagement-apimdiagnostics', 'azure.com:apimanagement-apimemailtemplate', 'azure.com:apimanagement-apimgroups', 'azure.com:apimanagement-apimidentityprovider', 'azure.com:apimanagement-apimloggers', 'azure.com:apimanagement-apimnetworkstatus', 'azure.com:apimanagement-apimnotifications', 'azure.com:apimanagement-apimopenidconnectproviders', 'azure.com:apimanagement-apimproducts', 'azure.com:apimanagement-apimproperties', 'azure.com:apimanagement-apimquotas', 'azure.com:apimanagement-apimreports', 'azure.com:apimanagement-apimsubscriptions', 'azure.com:apimanagement-apimtagresources', 'azure.com:apimanagement-apimtags', 'azure.com:apimanagement-apimtenant', 'azure.com:apimanagement-apimusers', 'azure.com:apimanagement-apimversionsets', 'azure.com:applicationinsights-aiOperations_API', 'azure.com:applicationinsights-componentAnnotations_API', 'azure.com:applicationinsights-componentApiKeys_API', 'azure.com:applicationinsights-componentContinuousExport_API', 'azure.com:applicationinsights-componentFeaturesAndPricing_API', 'azure.com:applicationinsights-componentProactiveDetection_API', 'azure.com:applicationinsights-componentWorkItemConfigs_API', 'azure.com:applicationinsights-components_API', 'azure.com:applicationinsights-favorites_API', 'azure.com:applicationinsights-webTestLocations_API', 'azure.com:applicationinsights-webTests_API', 'azure.com:authorization', 'azure.com:authorization-authorization-ClassicAdminCalls', 'azure.com:authorization-authorization-RACalls', 'azure.com:authorization-authorization-RoleBasedCalls', 'azure.com:automation-account', 'azure.com:automation-certificate', 'azure.com:automation-connection', 'azure.com:automation-connectionType', 'azure.com:automation-credential', 'azure.com:automation-dscCompilationJob', 'azure.com:automation-dscConfiguration', 'azure.com:automation-dscNode', 'azure.com:automation-dscNodeConfiguration', 'azure.com:automation-hybridRunbookWorkerGroup', 'azure.com:automation-job', 'azure.com:automation-jobSchedule', 'azure.com:automation-linkedWorkspace', 'azure.com:automation-module', 'azure.com:automation-runbook', 'azure.com:automation-schedule', 'azure.com:automation-softwareUpdateConfiguration', 'azure.com:automation-softwareUpdateConfigurationMachineRun', 'azure.com:automation-softwareUpdateConfigurationRun', 'azure.com:automation-sourceControl', 'azure.com:automation-sourceControlSyncJob', 'azure.com:automation-variable', 'azure.com:automation-webhook', 'azure.com:azsadmin-Alert', 'azure.com:azsadmin-CommerceAdmin', 'azure.com:azsadmin-EdgeGateway', 'azure.com:azsadmin-EdgeGatewayPool', 'azure.com:azsadmin-FabricLocation', 'azure.com:azsadmin-FileShare', 'azure.com:azsadmin-InfraRole', 'azure.com:azsadmin-InfraRoleInstance', 'azure.com:azsadmin-IpPool', 'azure.com:azsadmin-LogicalNetwork', 'azure.com:azsadmin-LogicalSubnet', 'azure.com:azsadmin-MacAddressPool', 'azure.com:azsadmin-Operations', 'azure.com:azsadmin-RegionHealth', 'azure.com:azsadmin-ResourceHealth', 'azure.com:azsadmin-ScaleUnit', 'azure.com:azsadmin-ScaleUnitNode', 'azure.com:azsadmin-ServiceHealth', 'azure.com:azsadmin-SlbMuxInstance', 'azure.com:azsadmin-StoragePool', 'azure.com:azsadmin-StorageSystem', 'azure.com:azsadmin-Volume', 'azure.com:azurestack-AzureStack', 'azure.com:azurestack-CustomerSubscription', 'azure.com:azurestack-Product', 'azure.com:azurestack-Registration', 'azure.com:batch-BatchManagement', 'azure.com:batchai-BatchAI', 'azure.com:billing', 'azure.com:cdn', 'azure.com:cognitiveservices', 'azure.com:cognitiveservices-ComputerVision', 'azure.com:cognitiveservices-ContentModerator', 'azure.com:cognitiveservices-Face', 'azure.com:cognitiveservices-LUIS-Programmatic', 'azure.com:cognitiveservices-LUIS-Runtime', 'azure.com:cognitiveservices-TextAnalytics', 'azure.com:commerce', 'azure.com:compute', 'azure.com:compute-containerService', 'azure.com:compute-disk', 'azure.com:compute-runCommands', 'azure.com:compute-skus', 'azure.com:compute-swagger', 'azure.com:consumption', 'azure.com:containerinstance-containerInstance', 'azure.com:containerregistry', 'azure.com:containerservices-containerService', 'azure.com:containerservices-location', 'azure.com:containerservices-managedClusters', 'azure.com:cosmos-db', 'azure.com:customer-insights', 'azure.com:datacatalog', 'azure.com:datafactory', 'azure.com:datalake-analytics-account', 'azure.com:datalake-analytics-catalog', 'azure.com:datalake-analytics-job', 'azure.com:datalake-store-account', 'azure.com:datalake-store-filesystem', 'azure.com:datamigration', 'azure.com:deviceprovisioningservices-iotdps', 'azure.com:devtestlabs-DTL', 'azure.com:dns', 'azure.com:domainservices', 'azure.com:eventgrid-EventGrid', 'azure.com:eventhub-EventHub', 'azure.com:hanaonazure', 'azure.com:hdinsight-applications', 'azure.com:hdinsight-capabilities', 'azure.com:hdinsight-cluster', 'azure.com:hdinsight-configurations', 'azure.com:hdinsight-extensions', 'azure.com:hdinsight-operations', 'azure.com:hdinsight-scriptActions', 'azure.com:intune', 'azure.com:iothub', 'azure.com:keyvault', 'azure.com:keyvault-providers', 'azure.com:keyvault-secrets', 'azure.com:locationbasedservices', 'azure.com:logic', 'azure.com:machinelearning-commitmentPlans', 'azure.com:machinelearning-webservices', 'azure.com:machinelearning-workspaces', 'azure.com:machinelearningcompute-machineLearningCompute', 'azure.com:machinelearningexperimentation-machineLearningExperimentation', 'azure.com:managementgroups-management', 'azure.com:managementpartner-ManagementPartner', 'azure.com:marketplaceordering-Agreements', 'azure.com:mediaservices-media', 'azure.com:migrate', 'azure.com:mobileengagement-mobile-engagement', 'azure.com:monitor-actionGroups_API', 'azure.com:monitor-activityLogAlerts_API', 'azure.com:monitor-activityLogs_API', 'azure.com:monitor-alertRulesIncidents_API', 'azure.com:monitor-alertRules_API', 'azure.com:monitor-autoscale_API', 'azure.com:monitor-baseline_API', 'azure.com:monitor-calculateBaseline_API', 'azure.com:monitor-diagnosticsSettingsCategories_API', 'azure.com:monitor-diagnosticsSettings_API', 'azure.com:monitor-eventCategories_API', 'azure.com:monitor-logProfiles_API', 'azure.com:monitor-metricDefinitions_API', 'azure.com:monitor-metrics_API', 'azure.com:monitor-operations_API', 'azure.com:monitor-serviceDiagnosticsSettings_API', 'azure.com:monitor-tenantActivityLogs_API', 'azure.com:msi-ManagedIdentity', 'azure.com:mysql', 'azure.com:network', 'azure.com:network-applicationGateway', 'azure.com:network-applicationSecurityGroup', 'azure.com:network-checkDnsAvailability', 'azure.com:network-endpointService', 'azure.com:network-expressRouteCircuit', 'azure.com:network-loadBalancer', 'azure.com:network-networkInterface', 'azure.com:network-networkSecurityGroup', 'azure.com:network-networkWatcher', 'azure.com:network-operation', 'azure.com:network-publicIpAddress', 'azure.com:network-routeFilter', 'azure.com:network-routeTable', 'azure.com:network-serviceCommunity', 'azure.com:network-usage', 'azure.com:network-virtualNetwork', 'azure.com:network-virtualNetworkGateway', 'azure.com:network-vmssNetworkInterface', 'azure.com:network-vmssPublicIpAddress', 'azure.com:notificationhubs', 'azure.com:operationalinsights-OperationalInsights', 'azure.com:operationsmanagement-OperationsManagement', 'azure.com:policyinsights-policyEvents', 'azure.com:policyinsights-policyStates', 'azure.com:postgresql', 'azure.com:powerbidedicated', 'azure.com:powerbiembedded', 'azure.com:provisioningservices-iotdps', 'azure.com:recoveryservices-backup', 'azure.com:recoveryservices-registeredidentities', 'azure.com:recoveryservices-replicationusages', 'azure.com:recoveryservices-vaults', 'azure.com:recoveryservices-vaultusages', 'azure.com:recoveryservicesbackup', 'azure.com:recoveryservicesbackup-backupManagement', 'azure.com:recoveryservicesbackup-bms', 'azure.com:recoveryservicesbackup-jobs', 'azure.com:recoveryservicesbackup-operations', 'azure.com:recoveryservicesbackup-registeredIdentities', 'azure.com:recoveryservicessiterecovery-service', 'azure.com:redis', 'azure.com:relay', 'azure.com:reservations', 'azure.com:resourcehealth', 'azure.com:resources', 'azure.com:resources-features', 'azure.com:resources-links', 'azure.com:resources-locks', 'azure.com:resources-managedapplications', 'azure.com:resources-management', 'azure.com:resources-policy', 'azure.com:resources-policyAssignments', 'azure.com:resources-policyDefinitions', 'azure.com:resources-policySetDefinitions', 'azure.com:resources-subscriptions', 'azure.com:scheduler', 'azure.com:search', 'azure.com:search-searchindex', 'azure.com:search-searchservice', 'azure.com:servermanagement', 'azure.com:service-map-arm-service-map', 'azure.com:servicebus', 'azure.com:servicefabric', 'azure.com:sql-Databases', 'azure.com:sql-advisors', 'azure.com:sql-backupLongTermRetentionPolicies', 'azure.com:sql-backupLongTermRetentionVaults', 'azure.com:sql-backups', 'azure.com:sql-blobAuditingPolicies', 'azure.com:sql-cancelOperations', 'azure.com:sql-cancelPoolOperations', 'azure.com:sql-capabilities', 'azure.com:sql-checkNameAvailability', 'azure.com:sql-connectionPolicies', 'azure.com:sql-dataMasking', 'azure.com:sql-dataWarehouseUserActivities', 'azure.com:sql-databaseAutomaticTuning', 'azure.com:sql-databaseSecurityAlertPolicies', 'azure.com:sql-databases', 'azure.com:sql-deprecated', 'azure.com:sql-disasterRecoveryConfigurations', 'azure.com:sql-elasticPools', 'azure.com:sql-encryptionProtectors', 'azure.com:sql-failoverGroups', 'azure.com:sql-firewallRules', 'azure.com:sql-geoBackupPolicies', 'azure.com:sql-importExport', 'azure.com:sql-managedDatabases', 'azure.com:sql-metrics', 'azure.com:sql-operations', 'azure.com:sql-queries', 'azure.com:sql-renameDatabase', 'azure.com:sql-replicationLinks', 'azure.com:sql-restorePoints', 'azure.com:sql-serverAutomaticTuning', 'azure.com:sql-serverAzureADAdministrators', 'azure.com:sql-serverCommunicationLinks', 'azure.com:sql-serverDnsAliases', 'azure.com:sql-serverKeys', 'azure.com:sql-servers', 'azure.com:sql-serviceObjectives', 'azure.com:sql-sql.core', 'azure.com:sql-syncAgents', 'azure.com:sql-syncGroups', 'azure.com:sql-syncMembers', 'azure.com:sql-tableAuditing', 'azure.com:sql-usages', 'azure.com:sql-virtualNetworkRules', 'azure.com:storage', 'azure.com:storageimportexport', 'azure.com:storsimple8000series-storsimple', 'azure.com:streamanalytics-functions', 'azure.com:streamanalytics-inputs', 'azure.com:streamanalytics-outputs', 'azure.com:streamanalytics-streamingjobs', 'azure.com:streamanalytics-subscriptions', 'azure.com:streamanalytics-transformations', 'azure.com:subscription-subscriptionDefinitions', 'azure.com:timeseriesinsights', 'azure.com:trafficmanager', 'azure.com:trafficmanager-trafficmanageranalytics', 'azure.com:visualstudio-Csm', 'azure.com:web-AppServiceCertificateOrders', 'azure.com:web-AppServiceEnvironments', 'azure.com:web-AppServicePlans', 'azure.com:web-CertificateRegistrationProvider', 'azure.com:web-Certificates', 'azure.com:web-DeletedWebApps', 'azure.com:web-Diagnostics', 'azure.com:web-DomainRegistrationProvider', 'azure.com:web-Domains', 'azure.com:web-Provider', 'azure.com:web-Recommendations', 'azure.com:web-ResourceProvider', 'azure.com:web-TopLevelDomains', 'azure.com:web-WebApps', 'azure.com:web-logicAppsManagementClient', 'azure.com:web-service', 'bbc.co.uk', 'bbc.com', 'bbci.co.uk', 'bclaws.ca:bclaws', 'beanstream.com', 'beezup.com', 'betfair.com', 'bigoven.com', 'bikewise.org', 'bitbucket.org', 'blazemeter.com', 'bluemix.net:containers', 'botify.com', 'box.com:authorization', 'box.com:content', 'box.com:token', 'box.com:upload', 'brandlovers.com', 'brex.io', 'browshot.com', 'bufferapp.com', 'bungie.net', 'callfire.com', 'cambase.io', 'carbondoomsday.com', 'ccp.is', 'cenit.io', 'channel4.com', 'circleci.com', 'circuitsandbox.net', 'cisco.com', 'citrixonline.com:gotomeeting', 'citrixonline.com:scim', 'citycontext.com', 'clarify.io', 'clever-cloud.com', 'clever.com', 'clickmeter.com', 'cloudmersive.com:ocr', 'cnab-online.herokuapp.com', 'code-scan.com', 'consumerfinance.gov', 'core.ac.uk', 'cybertaxonomy.eu', 'data.gov', 'data2crm.com', 'dataatwork.org', 'datumbox.com', 'deeparteffects.com', 'deutschebahn.com:betriebsstellen', 'deutschebahn.com:fahrplan', 'deutschebahn.com:fasta', 'deutschebahn.com:flinkster', 'deutschebahn.com:reisezentren', 'deutschebahn.com:stada', 'digitallinguistics.io', 'docker.com:engine', 'docusign.net', 'domainsdb.info', 'dracoon.team', 'dropx.io', 'dweet.io', 'ebay.com:buy-browse', 'ebay.com:buy-feed', 'ebay.com:buy-marketing', 'ebay.com:commerce-taxonomy', 'ebay.com:sell-fulfillment', 'envoice.in', 'epa.gov:air', 'epa.gov:case', 'epa.gov:cwa', 'epa.gov:dfr', 'epa.gov:echo', 'epa.gov:eff', 'epa.gov:rcra', 'epa.gov:sdw', 'etmdb.com', 'europeana.eu', 'exavault.com', 'fantasydata.net:cbb-v3-scores', 'fantasydata.net:cbb-v3-stats', 'fantasydata.net:cfb-v3-scores', 'fantasydata.net:golf-v2', 'fantasydata.net:mlb-v3-play-by-play', 'fantasydata.net:mlb-v3-projections', 'fantasydata.net:mlb-v3-projections-dfsr', 'fantasydata.net:mlb-v3-rotoballer-articles', 'fantasydata.net:mlb-v3-rotoballer-premium-news', 'fantasydata.net:mlb-v3-scores', 'fantasydata.net:mlb-v3-stats', 'fantasydata.net:nascar-v2', 'fantasydata.net:nba-v3-play-by-play', 'fantasydata.net:nba-v3-projections', 'fantasydata.net:nba-v3-rotoballer-articles', 'fantasydata.net:nba-v3-rotoballer-premium-news', 'fantasydata.net:nba-v3-scores', 'fantasydata.net:nba-v3-stats', 'fantasydata.net:nfl-v3-play-by-play', 'fantasydata.net:nfl-v3-projections', 'fantasydata.net:nfl-v3-projections-dfsr', 'fantasydata.net:nfl-v3-rotoballer-articles', 'fantasydata.net:nfl-v3-rotoballer-premium-news', 'fantasydata.net:nfl-v3-scores', 'fantasydata.net:nfl-v3-stats', 'fantasydata.net:nhl-v3-play-by-play', 'fantasydata.net:nhl-v3-projections', 'fantasydata.net:nhl-v3-scores', 'fantasydata.net:nhl-v3-stats', 'fantasydata.net:soccer-v3-projections', 'fantasydata.net:soccer-v3-scores', 'fantasydata.net:soccer-v3-stats', 'figshare.com', 'firebrowse.org', 'flat.io', 'flickr.com', 'formapi.io', 'freesound.org', 'funtranslations.com', 'furkot.com', 'geneea.com', 'geodesystems.com', 'getgo.com:gototraining', 'getgo.com:gotowebinar', 'getsandbox.com', 'gettyimages.com', 'giphy.com', 'gisgraphy.com', 'github.com', 'gitlab.com', 'googleapis.com:abusiveexperiencereport', 'googleapis.com:acceleratedmobilepageurl', 'googleapis.com:adexchangebuyer', 'googleapis.com:adexchangebuyer2', 'googleapis.com:adexchangeseller', 'googleapis.com:adexperiencereport', 'googleapis.com:admin', 'googleapis.com:adsense', 'googleapis.com:adsensehost', 'googleapis.com:analytics', 'googleapis.com:analyticsreporting', 'googleapis.com:androiddeviceprovisioning', 'googleapis.com:androidenterprise', 'googleapis.com:androidmanagement', 'googleapis.com:androidpublisher', 'googleapis.com:appengine', 'googleapis.com:appsactivity', 'googleapis.com:appstate', 'googleapis.com:bigquery', 'googleapis.com:bigquerydatatransfer', 'googleapis.com:blogger', 'googleapis.com:books', 'googleapis.com:calendar', 'googleapis.com:chat', 'googleapis.com:civicinfo', 'googleapis.com:classroom', 'googleapis.com:cloudbilling', 'googleapis.com:cloudbuild', 'googleapis.com:clouddebugger', 'googleapis.com:clouderrorreporting', 'googleapis.com:cloudfunctions', 'googleapis.com:cloudiot', 'googleapis.com:cloudkms', 'googleapis.com:cloudmonitoring', 'googleapis.com:cloudresourcemanager', 'googleapis.com:cloudshell', 'googleapis.com:cloudtasks', 'googleapis.com:cloudtrace', 'googleapis.com:clouduseraccounts', 'googleapis.com:compute', 'googleapis.com:consumersurveys', 'googleapis.com:container', 'googleapis.com:content', 'googleapis.com:customsearch', 'googleapis.com:dataflow', 'googleapis.com:dataproc', 'googleapis.com:datastore', 'googleapis.com:deploymentmanager', 'googleapis.com:dfareporting', 'googleapis.com:digitalassetlinks', 'googleapis.com:discovery', 'googleapis.com:dlp', 'googleapis.com:dns', 'googleapis.com:doubleclickbidmanager', 'googleapis.com:doubleclicksearch', 'googleapis.com:drive', 'googleapis.com:firebasedynamiclinks', 'googleapis.com:firebaseremoteconfig', 'googleapis.com:firebaserules', 'googleapis.com:firestore', 'googleapis.com:fitness', 'googleapis.com:fusiontables', 'googleapis.com:games', 'googleapis.com:gamesConfiguration', 'googleapis.com:gamesManagement', 'googleapis.com:genomics', 'googleapis.com:gmail', 'googleapis.com:groupsmigration', 'googleapis.com:groupssettings', 'googleapis.com:iam', 'googleapis.com:identitytoolkit', 'googleapis.com:kgsearch', 'googleapis.com:language', 'googleapis.com:licensing', 'googleapis.com:logging', 'googleapis.com:manufacturers', 'googleapis.com:mirror', 'googleapis.com:ml', 'googleapis.com:monitoring', 'googleapis.com:oauth2', 'googleapis.com:oslogin', 'googleapis.com:pagespeedonline', 'googleapis.com:partners', 'googleapis.com:people', 'googleapis.com:playcustomapp', 'googleapis.com:playmoviespartner', 'googleapis.com:plus', 'googleapis.com:plusDomains', 'googleapis.com:poly', 'googleapis.com:prediction', 'googleapis.com:proximitybeacon', 'googleapis.com:pubsub', 'googleapis.com:qpxExpress', 'googleapis.com:replicapool', 'googleapis.com:replicapoolupdater', 'googleapis.com:reseller', 'googleapis.com:resourceviews', 'googleapis.com:runtimeconfig', 'googleapis.com:safebrowsing', 'googleapis.com:script', 'googleapis.com:searchconsole', 'googleapis.com:serviceconsumermanagement', 'googleapis.com:servicecontrol', 'googleapis.com:servicemanagement', 'googleapis.com:serviceusage', 'googleapis.com:serviceuser', 'googleapis.com:sheets', 'googleapis.com:siteVerification', 'googleapis.com:slides', 'googleapis.com:sourcerepo', 'googleapis.com:spanner', 'googleapis.com:spectrum', 'googleapis.com:speech', 'googleapis.com:sqladmin', 'googleapis.com:storage', 'googleapis.com:storagetransfer', 'googleapis.com:streetviewpublish', 'googleapis.com:surveys', 'googleapis.com:tagmanager', 'googleapis.com:taskqueue', 'googleapis.com:tasks', 'googleapis.com:testing', 'googleapis.com:toolresults', 'googleapis.com:tpu', 'googleapis.com:tracing', 'googleapis.com:translate', 'googleapis.com:urlshortener', 'googleapis.com:vault', 'googleapis.com:videointelligence', 'googleapis.com:vision', 'googleapis.com:webfonts', 'googleapis.com:webmasters', 'googleapis.com:youtube', 'googleapis.com:youtubeAnalytics', 'googleapis.com:youtubereporting', 'gov.bc.ca:bcdc', 'gov.bc.ca:bcgnws', 'gov.bc.ca:geocoder', 'gov.bc.ca:geomark', 'gov.bc.ca:jobposting', 'gov.bc.ca:news', 'gov.bc.ca:open511', 'gov.bc.ca:router', 'graphhopper.com', 'greenpeace.org', 'gsa.gov', 'hackathonwatch.com', 'haloapi.com:metadata', 'haloapi.com:profile', 'haloapi.com:stats', 'haloapi.com:ugc', 'healthcare.gov', 'hetras-certification.net:booking', 'hetras-certification.net:hotel', 'hhs.gov', 'highwaysengland.co.uk', 'hsbc.com', 'icons8.com', 'idtbeyond.com', 'ijenko.net', 'illumidesk.com', 'import.io:data', 'import.io:extraction', 'import.io:rss', 'import.io:run', 'import.io:schedule', 'inboxroute.com', 'infermedica.com', 'instagram.com', 'instawell.com', 'iqualify.com', 'isbndb.com', 'isendpro.com', 'iva-api.com', 'je-apis.com', 'jirafe.com', 'jumpseller.com', 'just-eat.co.uk', 'koomalooma.com', 'kubernetes.io', 'landregistry.gov.uk:deed', 'launchdarkly.com', 'learnifier.com', 'letmc.com:basic-tier', 'letmc.com:customer', 'letmc.com:diary', 'letmc.com:free-tier', 'letmc.com:maintenance', 'letmc.com:reporting', 'link.fish', 'loganalytics.io:operationalinsights-OperationalInsights', 'lotadata.com', 'lufthansa.com:partner', 'lufthansa.com:public', 'lyft.com', 'magento.com', 'magick.nu', 'mandrillapp.com', 'mashape.com:geodb', 'mcw.edu', 'medium.com', 'miataru.com', 'microsoft.com:cognitiveservices-CustomSearch', 'microsoft.com:cognitiveservices-EntitySearch', 'microsoft.com:cognitiveservices-ImageSearch', 'microsoft.com:cognitiveservices-NewsSearch', 'microsoft.com:cognitiveservices-Prediction', 'microsoft.com:cognitiveservices-SpellCheck', 'microsoft.com:cognitiveservices-Training', 'microsoft.com:cognitiveservices-VideoSearch', 'microsoft.com:cognitiveservices-WebSearch', 'moonmoonmoonmoon.com', 'motaword.com', 'mozilla.com:kinto', 'nativeads.com', 'naviplancentral.com:factfinder', 'naviplancentral.com:plan', 'nba.com', 'neowsapp.com', 'netatmo.net', 'netlicensing.io', 'netlify.com', 'neutrinoapi.com', 'nfusionsolutions.biz', 'noosh.com', 'npr.org', 'nrel.gov:building-case-studies', 'nrel.gov:transportation-incentives-laws', 'nsidc.org', 'nytimes.com:archive', 'nytimes.com:article_search', 'nytimes.com:books_api', 'nytimes.com:community', 'nytimes.com:geo_api', 'nytimes.com:most_popular_api', 'nytimes.com:movie_reviews', 'nytimes.com:semantic_api', 'nytimes.com:times_tags', 'nytimes.com:timeswire', 'nytimes.com:top_stories', 'o2.cz:mobility', 'o2.cz:sociodemo', 'oceandrivers.com', 'omdbapi.com', 'openapi-converter.herokuapp.com', 'openbanking.org.uk', 'opencagedata.com', 'opendatasoft.com', 'openfintech.io', 'openstf.io', 'opentargets.io', 'orghunter.com', 'osf.io', 'osisoft.com', 'owler.com', 'oxforddictionaries.com', 'paccurate.io', 'pandorabots.com', 'passwordutility.net', 'patientview.org', 'paylocity.com', 'payments.service.gov.uk:payments', 'payrun.io', 'peel-ci.com', 'personio.de:authentication', 'personio.de:personnel', 'phila.gov:pollingplaces', 'polygon.io', 'postmarkapp.com:account', 'postmarkapp.com:server', 'posty-api.herokuapp.com', 'ptv.vic.gov.au', 'qualpay.com', 'quotes.rest', 'rbaskets.in', 'rebilly.com', 'receptive.io', 'refugerestrooms.org', 'reverb.com', 'ritc.io', 'ritekit.com', 'roaring.io', 'rottentomatoes.com', 'rummblelabs.com', 'runscope.com', 'salesloft.com', 'schooldigger.com', 'scrapewebsite.email', 'selectpdf.com', 'semantria.com', 'sendgrid.com', 'shipstation.com', 'simplyrets.com', 'slack.com', 'slicebox.local', 'slideroom.com', 'smart-me.com', 'solarvps.com', 'spectrocoin.com', 'spinbot.net', 'spinitron.com', 'spotify.com', 'squareup.com', 'stackexchange.com', 'staging-ecotaco.com', 'statsocial.com', 'stoplight.io', 'storecove.com', 'stripe.com', 'surrey.ca:open511', 'surrey.ca:trafficloops', 'swagger.io:generator', 'swaggerhub.com', 'synq.fm', 'taggun.io', 'taxamo.com', 'taxrates.io', 'tfl.gov.uk', 'thenounproject.com', 'thesmsworks.co.uk', 'thetvdb.com', 'traccar.org', 'transavia.com', 'trello.com', 'turbinelabs.io', 'tvmaze.com', 'twilio.com', 'twinehealth.com', 'twitter.com', 'tyk.com', 'uebermaps.com', 'vatapi.com', 'versioneye.com', 'vestorly.com', 'victorops.com', 'visagecloud.com', 'vocadb.net', 'voodoomfg.com', 'waag.org', 'watchful.li', 'waterlinked.com', 'wavecell.com', 'wealthport.com', 'weatherbit.io', 'weber-gesamtausgabe.de', 'whapi.com:accounts', 'whapi.com:bets', 'whapi.com:locations', 'whapi.com:numbers', 'whapi.com:sessions', 'whapi.com:sportsdata', 'who-hosts-this.com', 'wikimedia.org', 'windows.net:batch-BatchService', 'windows.net:graphrbac', 'winning.email', 'winsms.co.za', 'wmata.com:bus-realtime', 'wmata.com:bus-route', 'wmata.com:incidents', 'wmata.com:rail-realtime', 'wmata.com:rail-station', 'wordassociations.net', 'wordnik.com', 'wowza.com', 'wso2apistore.com:transform', 'xero.com', 'xkcd.com', 'yunbi.com', 'zalando.com', 'zappiti.com', 'zoom.us', 'zoomconnect.com', 'zuora.com'])\n"
     ]
    }
   ],
   "source": [
    "pathdict = dict()\n",
    "for spec in specjsons:\n",
    "    paths = specjsons[spec]['paths']\n",
    "    pathdict[spec] = paths\n",
    "print(pathdict.keys())"
   ]
  },
  {
   "cell_type": "code",
   "execution_count": 87,
   "metadata": {},
   "outputs": [],
   "source": [
    "with open('obj/'+ 'pathsdict' + '.pkl', 'wb') as f:\n",
    "        pickle.dump(pathdict, f, pickle.HIGHEST_PROTOCOL)\n"
   ]
  },
  {
   "cell_type": "code",
   "execution_count": 89,
   "metadata": {},
   "outputs": [],
   "source": [
    "with open('paths_spec.json', 'w') as fp:\n",
    "        json.dump(pathdict,fp)"
   ]
  },
  {
   "cell_type": "code",
   "execution_count": null,
   "metadata": {},
   "outputs": [],
   "source": []
  }
 ],
 "metadata": {
  "kernelspec": {
   "display_name": "Python 2",
   "language": "python",
   "name": "python2"
  },
  "language_info": {
   "codemirror_mode": {
    "name": "ipython",
    "version": 2
   },
   "file_extension": ".py",
   "mimetype": "text/x-python",
   "name": "python",
   "nbconvert_exporter": "python",
   "pygments_lexer": "ipython2",
   "version": "2.7.6"
  }
 },
 "nbformat": 4,
 "nbformat_minor": 0
}
