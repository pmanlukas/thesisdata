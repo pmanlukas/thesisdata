{
 "cells": [
  {
   "cell_type": "markdown",
   "metadata": {},
   "source": [
    "# Category Playground\n",
    "\n",
    "This notebook is used to explore the categories in the dataset and generate a list of them"
   ]
  },
  {
   "cell_type": "code",
   "execution_count": 11,
   "metadata": {},
   "outputs": [],
   "source": [
    "import sys\n",
    "import json\n",
    "import time\n",
    "import pickle\n",
    "import csv\n",
    "import pandas as pd\n",
    "import numpy as np"
   ]
  },
  {
   "cell_type": "code",
   "execution_count": 4,
   "metadata": {},
   "outputs": [],
   "source": [
    "specs = dict()\n",
    "\n",
    "with open('obj/specjson210518.pkl', 'rb') as handle:\n",
    "    specs = pickle.load(handle)"
   ]
  },
  {
   "cell_type": "code",
   "execution_count": 12,
   "metadata": {},
   "outputs": [],
   "source": [
    "with open('obj/categories_dict0518.pkl', 'rb') as handle:\n",
    "    cat_label = pickle.load(handle)"
   ]
  },
  {
   "cell_type": "code",
   "execution_count": 17,
   "metadata": {},
   "outputs": [],
   "source": [
    "categories = set()"
   ]
  },
  {
   "cell_type": "code",
   "execution_count": 18,
   "metadata": {},
   "outputs": [],
   "source": [
    "for cat in cat_label:\n",
    "    categories.add(cat_label[cat])"
   ]
  },
  {
   "cell_type": "code",
   "execution_count": 19,
   "metadata": {},
   "outputs": [
    {
     "data": {
      "text/plain": [
       "{'analytics',\n",
       " 'backend',\n",
       " 'cloud',\n",
       " 'collaboration',\n",
       " 'customer_relation',\n",
       " 'developer_tools',\n",
       " 'ecommerce',\n",
       " 'education',\n",
       " 'email',\n",
       " 'enterprise',\n",
       " 'entertainment',\n",
       " 'financial',\n",
       " 'hosting',\n",
       " 'iot',\n",
       " 'location',\n",
       " 'machine_learning',\n",
       " 'marketing',\n",
       " 'media',\n",
       " 'messaging',\n",
       " 'monitoring',\n",
       " 'open_data',\n",
       " 'payment',\n",
       " 'search',\n",
       " 'security',\n",
       " 'social',\n",
       " 'storage',\n",
       " 'support',\n",
       " 'telecom',\n",
       " 'text',\n",
       " 'time_management',\n",
       " 'tools',\n",
       " 'transport'}"
      ]
     },
     "execution_count": 19,
     "metadata": {},
     "output_type": "execute_result"
    }
   ],
   "source": [
    "categories"
   ]
  },
  {
   "cell_type": "code",
   "execution_count": null,
   "metadata": {},
   "outputs": [],
   "source": []
  }
 ],
 "metadata": {
  "kernelspec": {
   "display_name": "Python 3",
   "language": "python",
   "name": "python3"
  },
  "language_info": {
   "codemirror_mode": {
    "name": "ipython",
    "version": 3
   },
   "file_extension": ".py",
   "mimetype": "text/x-python",
   "name": "python",
   "nbconvert_exporter": "python",
   "pygments_lexer": "ipython3",
   "version": "3.6.4"
  }
 },
 "nbformat": 4,
 "nbformat_minor": 2
}
